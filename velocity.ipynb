{
 "cells": [
  {
   "cell_type": "code",
   "execution_count": null,
   "id": "ea2fe3d5",
   "metadata": {},
   "outputs": [],
   "source": [
    "from pathlib import Path\n",
    "from scipy.signal import find_peaks\n",
    "from scipy.stats import norm\n",
    "import numpy as np\n",
    "import matplotlib.pyplot as plt\n",
    "import matplotlib.patches as patches\n",
    "from mpl_toolkits.axes_grid1 import make_axes_locatable\n",
    "from matplotlib.patches import Rectangle\n",
    "from astropy.modeling import models, fitting\n",
    "import h5py\n",
    "import copy\n",
    "import pickle\n",
    "\n",
    "# Project modules\n",
    "from lib.Stokes import Stokes\n",
    "from functions.plot_data import plot_data\n",
    "from functions.plot_angle_gradient import plot_angle_gradient"
   ]
  },
  {
   "cell_type": "code",
   "execution_count": null,
   "id": "181b1208",
   "metadata": {},
   "outputs": [],
   "source": [
    "# Open data files\n",
    "from functions.load_pickles import load_pickles\n",
    "stokes_list, _ = load_pickles(select=\"stokes\")"
   ]
  },
  {
   "cell_type": "code",
   "execution_count": null,
   "id": "c6a67622",
   "metadata": {},
   "outputs": [],
   "source": [
    "# Extract each Stokes parameter into dictionary, to make it easier to work with\n",
    "I = stokes_list['I']\n",
    "Q = stokes_list['Q']\n",
    "U = stokes_list['U']\n",
    "V = stokes_list['V']"
   ]
  },
  {
   "cell_type": "code",
   "execution_count": null,
   "id": "b13e5b73",
   "metadata": {},
   "outputs": [],
   "source": [
    "lambda0  = [6301.51, 6302.50]   # Angstroms to cm"
   ]
  },
  {
   "cell_type": "code",
   "execution_count": null,
   "id": "87afbecf",
   "metadata": {},
   "outputs": [],
   "source": [
    "# Fit a Gaussian to the data and find its minimum\n",
    "verbose = 0\n",
    "\n",
    "shape = np.shape(I.data_n[:,:,:2])\n",
    "fit_quality = np.zeros(shape)\n",
    "min_x_array = np.zeros(shape)\n",
    "dl = np.zeros(shape)\n",
    "\n",
    "for i in range(0, shape[0]):\n",
    "    if np.mod(i,10) == 0:\n",
    "        print(f'Row {i} of {np.shape(I.data_n)[0]}')\n",
    "    for j in range(0, shape[1]):\n",
    "        x = I.wave_array[:60]\n",
    "        y = I.data_n[i,j,:60]\n",
    "        # Normalize y for fitting stability\n",
    "        y_norm = (y - np.median(y)) / np.abs(y).max()\n",
    "        # Initial guess: amplitude, mean, stddev\n",
    "        amplitude_guess = y_norm.min()\n",
    "        mean_guess = x[np.argmin(y_norm)]\n",
    "        stddev_guess = (x.max() - x.min()) / 8\n",
    "        init = models.Gaussian1D(amplitude=amplitude_guess, mean=mean_guess, stddev=stddev_guess)\n",
    "        fitter = fitting.LevMarLSQFitter()\n",
    "        fit = fitter(init, x, y_norm)\n",
    "        min_x = fit.mean.value\n",
    "        min_x_array[i, j, 0] = min_x\n",
    "        dl[i, j, 0] = min_x - lambda0[0]\n",
    "        min_y = fit(min_x) * np.abs(y).max() + np.median(y)  # convert back to original scale\n",
    "        # Fit quality: normalized RMSE\n",
    "        residual = y - (fit(x) * np.abs(y).max() + np.median(y))\n",
    "        rmse = np.sqrt(np.mean(residual**2))\n",
    "        norm_rmse = rmse / (np.abs(y).max() - np.abs(y).min() + 1e-8)\n",
    "        fit_quality[i, j, 0] = norm_rmse\n",
    "        if (verbose) or (fit_quality[i,j,0] > 0.2):\n",
    "            print(f\"Minimum of Gaussian fit: x = {min_x}, fit quality = {norm_rmse:.4f}\")\n",
    "            print(f\"Distance: {dl[i, j, 0]}\")\n",
    "            plt.plot(x, y, label='Data')\n",
    "            plt.plot(x, fit(x) * np.abs(y).max() + np.median(y), label='Gaussian fit', color='orange')\n",
    "            plt.axvline(min_x, color='green', linestyle='--', label='Fit minimum')\n",
    "            plt.axvline(lambda0[0], color='purple', linestyle='--', label='Reference line')\n",
    "            plt.legend()\n",
    "            plt.title(f'Pixel ({i},{j})')\n",
    "            plt.show()"
   ]
  },
  {
   "cell_type": "code",
   "execution_count": null,
   "id": "cd0a42a3",
   "metadata": {},
   "outputs": [],
   "source": [
    "plot_data(dl[:,:,0], title=r\"$\\Delta \\lambda $, in $\\mathrm{\\AA}$\", colourmap='bwr', scale=[-0.08, 0.08])"
   ]
  },
  {
   "cell_type": "code",
   "execution_count": null,
   "id": "705d0952",
   "metadata": {},
   "outputs": [],
   "source": [
    "plot_data(fit_quality[:,:,0], title=\"RMSW\", colourmap='gist_earth')"
   ]
  },
  {
   "cell_type": "code",
   "execution_count": null,
   "id": "9453bedc",
   "metadata": {},
   "outputs": [],
   "source": [
    "c = 2.99792458e5  # [km · s−1]\n",
    "\n",
    "# Rebecca Centeno, equation 3\n",
    "v = c * dl[:,:,0] / lambda0[0]\n",
    "\n",
    "plot_data(v, title=f\"Velocity [km/s]\", colourmap='bwr', scale=[-3, 3])"
   ]
  },
  {
   "cell_type": "code",
   "execution_count": null,
   "id": "c54b05ec",
   "metadata": {},
   "outputs": [],
   "source": [
    "plate_scale_x = 0.14857 # arcseconds per pixel\n",
    "plate_scale_y = 0.16 # arcseconds per pixel\n",
    "\n",
    "# Select region of quiet sun for calibration intensity calculation\n",
    "xmin = 440\n",
    "xmax = I.data.shape[1]\n",
    "ymin = 0\n",
    "ymax = 168\n",
    "xwidth = xmax - xmin\n",
    "ywidth = ymax - ymin\n",
    "# We want to select a region with little total polarization, since this implies a low magnetic field -> quiet sun\n",
    "\n",
    "# Plot polarization\n",
    "fig, ax, img = plot_data(I.data_n[:,:,0], colourmap='magma', title=\"Quiet sun region on I map\")\n",
    "\n",
    "# Create a rectangle patch and add the patch to the Axes\n",
    "ax.add_patch(Rectangle((xmin*plate_scale_x, ymin*plate_scale_y), xwidth*plate_scale_x, ywidth*plate_scale_y, linewidth=2, edgecolor='r', facecolor='none'))\n",
    "\n",
    "\n",
    "# Save figure to file\n",
    "fig.savefig(\"generated/polarisation_selection_square.png\", dpi=150)\n",
    "print(\"Saved figure to file\", \"generated/polarisation_selection_square.png\")"
   ]
  },
  {
   "cell_type": "code",
   "execution_count": null,
   "id": "3c8b0c7b",
   "metadata": {},
   "outputs": [],
   "source": [
    "# Calulate mean velocity of quiet sun area\n",
    "v_quiet_mean = v[ymin:ymax,xmin:xmax].mean()\n",
    "print(f'Mean velocity in quiet sun: {v_quiet_mean} km/s')\n",
    "\n",
    "# Calulate mean of fit\n",
    "fit_quiet_mean = fit_quality[ymin:ymax,xmin:xmax].mean()\n",
    "print(f'Mean fit quality in quiet sun: {fit_quiet_mean} RMSE')"
   ]
  },
  {
   "cell_type": "code",
   "execution_count": null,
   "id": "25826fd0",
   "metadata": {},
   "outputs": [],
   "source": [
    "plot_data(v-v_quiet_mean, title=f\"Velocity (corrected with quiet sun) [km/s]\", colourmap='bwr', scale=[-3, 3])"
   ]
  },
  {
   "cell_type": "code",
   "execution_count": null,
   "id": "1ffd7083",
   "metadata": {},
   "outputs": [],
   "source": [
    "delta_from_mean = v_quiet_mean / c * lambda0[0]\n",
    "print(f'Delta from mean: {delta_from_mean} Angstrom')"
   ]
  },
  {
   "cell_type": "code",
   "execution_count": null,
   "id": "f46a78d9",
   "metadata": {},
   "outputs": [],
   "source": [
    "fit_quality_g = fit_quality[:,:,0] * (fit_quality[:,:,0]>np.abs(delta_from_mean))\n",
    "plot_data(fit_quality_g, title=\"RMSW\", colourmap='gist_earth')"
   ]
  },
  {
   "cell_type": "code",
   "execution_count": null,
   "id": "c0426c6a",
   "metadata": {},
   "outputs": [],
   "source": [
    "x_indices = [123, 320, 422]\n",
    "y_indices = [272, 373, 685]\n",
    "fig, axs = plt.subplots(3, 3, figsize=(20, 16))\n",
    "\n",
    "for row, i in enumerate(x_indices):\n",
    "    for col, j in enumerate(y_indices):\n",
    "        x = I.wave_array[:60]\n",
    "        y = I.data_n[j, i, :60]\n",
    "        y_norm = (y - np.median(y)) / np.abs(y).max()\n",
    "        amplitude_guess = y_norm.min()\n",
    "        mean_guess = x[np.argmin(y_norm)]\n",
    "        stddev_guess = (x.max() - x.min()) / 8\n",
    "        init = models.Gaussian1D(amplitude=amplitude_guess, mean=mean_guess, stddev=stddev_guess)\n",
    "        fitter = fitting.LevMarLSQFitter()\n",
    "        fit = fitter(init, x, y_norm)\n",
    "        min_x = fit.mean.value\n",
    "        min_y = fit(min_x) * np.abs(y).max() + np.median(y)\n",
    "        residual = y - (fit(x) * np.abs(y).max() + np.median(y))\n",
    "        rmse = np.sqrt(np.mean(residual**2))\n",
    "        norm_rmse = rmse / (np.abs(y).max() - np.abs(y).min() + 1e-8)\n",
    "\n",
    "        ax = axs[col, row]\n",
    "        ax.plot(x, y, label='I data')\n",
    "        ax.plot(x, fit(x) * np.abs(y).max() + np.median(y), label='Gaussian fit', color='orange')\n",
    "        ax.axvline(min_x, color='green', linestyle='-.', label='Fit minimum')\n",
    "        ax.axvline(lambda0[0], color='purple', linestyle='--', label='Reference line')\n",
    "        ax.axvline(lambda0[0] + delta_from_mean, color='black', linestyle=':', label='Delta V quiet sun')\n",
    "        # ax.axvspan(lambda0[0] + delta_from_mean, lambda0[0], color='green', alpha=0.2, label='Delta V quiet sun')\n",
    "        ax.set_xlim([6301.3, 6301.7])\n",
    "        ax.set_title(f'Pixel ({i},{j})\\nFit min: {min_x:.4f}, RMSE: {norm_rmse:.4f}\\nV: {v[j,i]-v_quiet_mean}')\n",
    "        ax.legend()\n",
    "\n",
    "plt.tight_layout()\n",
    "plt.show()"
   ]
  },
  {
   "cell_type": "code",
   "execution_count": null,
   "id": "a3c57f6c",
   "metadata": {},
   "outputs": [],
   "source": [
    "# Plot v\n",
    "fig, ax, img = plot_data(v-v_quiet_mean, title=f\"Velocity (corrected with quiet sun) [km/s]\", colourmap='bwr', scale=[-3, 3])\n",
    "\n",
    "for i in range(3):\n",
    "    for j in range(3):\n",
    "        ax.scatter(x_indices[i]*plate_scale_x, y_indices[j]*plate_scale_y, facecolors='none', edgecolors='red')\n",
    "\n",
    "\n",
    "# Save figure to file\n",
    "# fig.savefig(\"generated/polarisation_selection_square.png\", dpi=150)\n",
    "# print(\"Saved figure to file\", \"generated/polarisation_selection_square.png\")"
   ]
  },
  {
   "cell_type": "code",
   "execution_count": null,
   "id": "c0129d56",
   "metadata": {},
   "outputs": [],
   "source": [
    "# Save min_x_array, fit_quality, and dl as pickle files\n",
    "import pickle\n",
    "with open('generated/objects/min_x_array.pickle', 'wb') as f:\n",
    "    pickle.dump(min_x_array, f)\n",
    "with open('generated/objects/fit_quality.pickle', 'wb') as f:\n",
    "    pickle.dump(fit_quality, f)\n",
    "with open('generated/objects/dl.pickle', 'wb') as f:\n",
    "    pickle.dump(dl, f)\n",
    "with open('generated/objects/velocity.pickle', 'wb') as f:\n",
    "    pickle.dump(v, f)\n",
    "print('Saved min_x_array, fit_quality, velocity, and dl to generated/ as pickle files')\n"
   ]
  }
 ],
 "metadata": {
  "kernelspec": {
   "display_name": "tfm",
   "language": "python",
   "name": "python3"
  },
  "language_info": {
   "codemirror_mode": {
    "name": "ipython",
    "version": 3
   },
   "file_extension": ".py",
   "mimetype": "text/x-python",
   "name": "python",
   "nbconvert_exporter": "python",
   "pygments_lexer": "ipython3",
   "version": "3.13.5"
  }
 },
 "nbformat": 4,
 "nbformat_minor": 5
}
