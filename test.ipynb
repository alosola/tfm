{
 "cells": [
  {
   "cell_type": "code",
   "execution_count": null,
   "id": "753b8cfc",
   "metadata": {},
   "outputs": [],
   "source": [
    "\n",
    "import os\n",
    "from scipy.signal import find_peaks\n",
    "import numpy as np\n",
    "import matplotlib.pyplot as plt\n",
    "import matplotlib.patches as patches\n",
    "from mpl_toolkits.axes_grid1 import make_axes_locatable\n",
    "import h5py\n",
    "from scipy.optimize import curve_fit\n"
   ]
  },
  {
   "cell_type": "code",
   "execution_count": null,
   "id": "d7f6bddc",
   "metadata": {},
   "outputs": [],
   "source": [
    "# Open datafile\n",
    "datafile = 'data/AR_12665_133153_0.h5'\n",
    "print(\"Reading data file\", datafile)\n",
    "data = h5py.File(datafile, 'r')\n",
    "print(\"Opened data file\", data.file)\n",
    "\n",
    "# Print data parameters\n",
    "print(\"List of keys in file:\", list(data.keys()))\n",
    "key = list(data.keys())[0]\n",
    "print(\"    Number of strokes parameters:   \", data[key].shape[0])\n",
    "print(\"    Size of X axis:                 \", data[key].shape[1])\n",
    "print(\"    Size of Y axis:                 \", data[key].shape[2])\n",
    "print(\"    Number of measured wavelengths: \", data[key].shape[3])"
   ]
  },
  {
   "cell_type": "code",
   "execution_count": null,
   "id": "05530f21",
   "metadata": {},
   "outputs": [],
   "source": [
    "# Extract each Stokes parameter\n",
    "i = 0\n",
    "I = data[key][0]\n",
    "Q = data[key][1]\n",
    "U = data[key][2]\n",
    "V = data[key][3]\n",
    "stokes_list = [I, Q, U, V]\n",
    "for stokes in stokes_list:\n",
    "    print(stokes.shape)\n",
    "    i = i + 1"
   ]
  },
  {
   "cell_type": "code",
   "execution_count": null,
   "id": "de8b88b7",
   "metadata": {},
   "outputs": [],
   "source": [
    "# Plot first image of I data\n",
    "fig, ax = plt.subplots(ncols=1, nrows=1, figsize=(8, 8))\n",
    "ax.set_xlabel('X axis (array index)')\n",
    "ax.set_ylabel('Y axis (array index)')\n",
    "ax.set_title(\"Intensity data\")\n",
    "\n",
    "img = ax.imshow(I[:,:,0], cmap='gray', origin='lower')\n",
    "# img = ax.imshow(I[:,:,0], cmap='viridis', vmin=6000, vmax=7500, origin='lower')\n",
    "divider = make_axes_locatable(ax)\n",
    "cax = divider.append_axes(\"right\", size=\"5%\", pad=0.05)\n",
    "fig.colorbar(img, cax=cax, label='Number of counts')"
   ]
  },
  {
   "cell_type": "code",
   "execution_count": null,
   "id": "69e622b1",
   "metadata": {},
   "outputs": [],
   "source": [
    "# Plot first image for all 4 Stokes parameters\n",
    "fig, ax = plt.subplots(ncols=4, nrows=1, figsize=(18, 6))\n",
    "ax[0].set_ylabel('Y axis (array index)')\n",
    "titles = ['I', 'Q', 'U', 'V']\n",
    "\n",
    "for i in range(0,4):\n",
    "    ax[i].set_xlabel('X axis (array index)')\n",
    "    ax[i].set_title(titles[i])\n",
    "    img = ax[i].imshow(stokes_list[i][:,:,0], cmap='gray', origin='lower')\n",
    "    divider = make_axes_locatable(ax[i])\n",
    "    cax = divider.append_axes(\"right\", size=\"5%\", pad=0.05)\n",
    "    fig.colorbar(img, cax=cax)\n",
    "\n",
    "fig.colorbar(img, cax=cax, label='Number of counts')"
   ]
  },
  {
   "cell_type": "code",
   "execution_count": null,
   "id": "d702665d",
   "metadata": {},
   "outputs": [],
   "source": [
    "# Open calibration data\n",
    "calibfile = 'data/fts_calibration.npz'\n",
    "print(\"Reading calibration data file\", calibfile)\n",
    "calibdata = np.load(calibfile)\n",
    "print(\"Opened calibration data file\")\n",
    "\n",
    "# Print data parameters\n",
    "print(\"List of keys in file:\", list(calibdata.files))\n",
    "key = list(calibdata.files)\n",
    "print(\"With shape:\")\n",
    "print(\"    Wavelength daya (x):           \", calibdata[key[0]].shape)\n",
    "print(\"    Intensity (y):                 \", calibdata[key[0]].shape)\n",
    "print(\"    Continuum (c):                 \", calibdata[key[0]].shape)"
   ]
  },
  {
   "cell_type": "code",
   "execution_count": null,
   "id": "31d36819",
   "metadata": {},
   "outputs": [],
   "source": [
    "# Select region of the sun for calibration intensity calculation\n",
    "# sol en calma, sin manchas ni poros --> TODO: como se dice \"sol en calma\" in English?\n",
    "xmin = 0\n",
    "xmax = 220\n",
    "ymin = 150\n",
    "ymax = 605\n",
    "xwidth = xmax - xmin\n",
    "ywidth = ymax - ymin\n",
    "\n",
    "# Plot region on image\n",
    "fig, ax = plt.subplots(ncols=1, nrows=1, figsize=(8, 8))\n",
    "ax.set_xlabel('X axis (array index)')\n",
    "ax.set_ylabel('Y axis (array index)')\n",
    "ax.set_title(\"Intensity data with selected reference region\")\n",
    "\n",
    "img = ax.imshow(I[:,:,0], cmap='gray', origin='lower')\n",
    "divider = make_axes_locatable(ax)\n",
    "cax = divider.append_axes(\"right\", size=\"5%\", pad=0.05)\n",
    "fig.colorbar(img, cax=cax, label='Number of counts')\n",
    "\n",
    "# Create a rectangle patch\n",
    "rect = patches.Rectangle((xmin, ymin), xwidth, ywidth, linewidth=1, edgecolor='r', facecolor='none')\n",
    "\n",
    "# Add the patch to the Axes\n",
    "ax.add_patch(rect)"
   ]
  },
  {
   "cell_type": "code",
   "execution_count": null,
   "id": "5d28cf35",
   "metadata": {},
   "outputs": [],
   "source": [
    "# Calculate median intensities to ensure I am doing this right\n",
    "print(\"mean of whole image: \", I[:,:,0].mean())\n",
    "print(\"mean of patch: \", I[ymin:ymax,xmin:xmax,0].mean())\n",
    "print(\"mean of patch in spot: \", I[300:310,400:410,0].mean())\n",
    "print(\"mean of patch in penumbra: \", I[400:410,300:310,0].mean())"
   ]
  },
  {
   "cell_type": "code",
   "execution_count": null,
   "id": "ca84d79b",
   "metadata": {},
   "outputs": [],
   "source": [
    "# Calculate mean for each wavelength, repeat for each Stokes parameter\n",
    "mean_stokes_list = np.empty([112,4])\n",
    "\n",
    "fig, ax = plt.subplots(ncols=1, nrows=4, figsize=(6, 10))\n",
    "for i in range(4):\n",
    "    mean_stokes_list[:,i] = stokes_list[i][ymin:ymax,xmin:xmax,:].mean(axis=(0,1))\n",
    "    \n",
    "    ax[i].set_ylabel(titles[i])\n",
    "    img = ax[i].plot(mean_stokes_list[:,i])"
   ]
  },
  {
   "cell_type": "code",
   "execution_count": null,
   "id": "0a34e971",
   "metadata": {},
   "outputs": [],
   "source": [
    "# Get spectral lines from data spectrum\n",
    "spectrum = mean_stokes_list[:,0]\n",
    "peaks, _ = find_peaks(-spectrum) \n",
    "print(\"Peaks in I data: \", peaks)\n",
    "\n",
    "# Example from here: https://eikonaloptics.com/blogs/tutorials/spectrometer-wavelength-calibration-practical-implementation?srsltid=AfmBOoqBsKn0cOmwJ4wTow4yGllnfrRJAqNRn0FOSJ3sFu7leDetbL1D\n",
    "# Find centroid of spectral lines\n",
    "npix = 4\n",
    "centroid_pix = np.array([])\n",
    "for p in peaks:\n",
    "  pix = np.arange(p-npix, p+npix+1)\n",
    "  centroid_pix = np.append(centroid_pix,\n",
    "                 np.sum(spectrum[p-npix: p+npix+1] * pix) / np.sum(spectrum[p-npix: p+npix+1]))\n",
    "  \n",
    "print(\"Centroix pixels on spectrum: \", centroid_pix)\n",
    "\n",
    "# Plot on spectrum\n",
    "fig, ax = plt.subplots(ncols=1, nrows=1, figsize=(6, 3))\n",
    "ax.set_xlabel('Wavelength (not calibrated)')\n",
    "ax.set_ylabel('Intensity')\n",
    "ax.set_title(\"Mean intensity\")\n",
    "ax.vlines(centroid_pix, spectrum.min(), spectrum.max(), colors='orange')\n",
    "img = ax.plot(spectrum)"
   ]
  },
  {
   "cell_type": "code",
   "execution_count": null,
   "id": "adeffd82",
   "metadata": {},
   "outputs": [],
   "source": [
    "# Plot calibration data\n",
    "fig, ax = plt.subplots(ncols=1, nrows=1, figsize=(6, 3))\n",
    "ax.set_xlabel('Wavelength')\n",
    "ax.set_ylabel('Intensity')\n",
    "ax.set_title(\"Calibration data\")\n",
    "\n",
    "img = ax.plot(calibdata['x'], calibdata['y'])"
   ]
  },
  {
   "cell_type": "code",
   "execution_count": null,
   "id": "8118d293",
   "metadata": {},
   "outputs": [],
   "source": [
    "# Get spectral lines from calibration spectrum\n",
    "calib_spectrum = calibdata['y']\n",
    "calib_peaks, _ = find_peaks(-calib_spectrum) # find absortion lines\n",
    "print(\"Peaks in calibration data: \", calib_peaks)\n",
    "# Keep peaks which match the Fe I lines (manually)\n",
    "calib_peaks_clean = [210, 347]\n",
    "\n",
    "# Get wavelength values of Fe I peaks\n",
    "calib_wavelengths = [calibdata['x'][210], calibdata['x'][347]]\n",
    "print(\"Wavelengths of Fe I peaks: \", calib_wavelengths)\n",
    "\n",
    "# Plot calibration data\n",
    "fig, ax = plt.subplots(ncols=1, nrows=1, figsize=(6, 3))\n",
    "ax.set_xlabel('Wavelength [nm]')\n",
    "ax.set_ylabel('Intensity')\n",
    "ax.set_title(\"Calibration data\")\n",
    "ax.vlines(calib_wavelengths, calib_spectrum.min(), calib_spectrum.max(), colors='orange')\n",
    "img = ax.plot(calibdata['x'], calibdata['y'])"
   ]
  },
  {
   "cell_type": "code",
   "execution_count": null,
   "id": "ad838560",
   "metadata": {},
   "outputs": [],
   "source": [
    "# Calculate polynomial which fits the spectra to the calibration wavelengths\n",
    "poly_degree = 1\n",
    "coeffs_wave_cal = np.polyfit(centroid_pix, calib_wavelengths, deg=poly_degree, w=[20,2])\n",
    "print(\"Polyfit coefficients: \", coeffs_wave_cal)\n",
    "\n",
    "plt.plot(np.polyval(coeffs_wave_cal, np.arange(112)))\n",
    "plt.title(\"Polyfit results\")"
   ]
  },
  {
   "cell_type": "code",
   "execution_count": null,
   "id": "1a9c0f4f",
   "metadata": {},
   "outputs": [],
   "source": [
    "def fitfunc(x,a,b): # TODO:: finish exploring this option\n",
    "    return abs(a) * x**2 + b * x\n",
    "\n",
    "a, b = curve_fit(fitfunc, centroid_pix, calib_wavelengths) \n",
    "\n",
    "print(coeffs_wave_cal)\n",
    "coeffs_wave_cal_2 = [a[0], a[1], 0]\n",
    "print(coeffs_wave_cal_2)\n",
    "plt.plot(np.polyval(coeffs_wave_cal_2, np.arange(112)))"
   ]
  },
  {
   "cell_type": "code",
   "execution_count": null,
   "id": "4eaa57cb",
   "metadata": {},
   "outputs": [],
   "source": [
    "# Adjust spectrum with the calculated polynomial\n",
    "pix_val = np.arange(len(spectrum))\n",
    "calibrated_axis = np.polyval(coeffs_wave_cal, pix_val)\n",
    "\n",
    "# Plot the spectrum with the newly calibrated wavelengths. \n",
    "plt.figure(figsize=(8,5))\n",
    "plt.plot(calibrated_axis, spectrum)\n",
    "plt.xlabel('Calibrated wavelength [nm]')"
   ]
  },
  {
   "cell_type": "code",
   "execution_count": null,
   "id": "97c2de7e",
   "metadata": {},
   "outputs": [],
   "source": [
    "# Normalize spectrum and calibration data, mean of first value\n",
    "spectrum_n = spectrum / spectrum[0]\n",
    "calibdata_n = calibdata['y'] / calibdata['y'][0] # this is wrong but useful for visual confirmation\n",
    "\n",
    "# Compare calibrated spectum to calibration data\n",
    "fig, ax = plt.subplots(ncols=1, nrows=1, figsize=(6, 3))\n",
    "ax.set_xlabel('Wavelength [nm]')\n",
    "ax.set_ylabel('Intensity (normalized)')\n",
    "ax.set_title(\"Calibration data\")\n",
    "ax.set_xlim([6300, 6304])\n",
    "img = ax.plot(calibdata['x'], calibdata_n)\n",
    "img = ax.plot(calibrated_axis, spectrum_n, color='orange')"
   ]
  }
 ],
 "metadata": {
  "kernelspec": {
   "display_name": "Python 3",
   "language": "python",
   "name": "python3"
  },
  "language_info": {
   "codemirror_mode": {
    "name": "ipython",
    "version": 3
   },
   "file_extension": ".py",
   "mimetype": "text/x-python",
   "name": "python",
   "nbconvert_exporter": "python",
   "pygments_lexer": "ipython3",
   "version": "3.8.10"
  }
 },
 "nbformat": 4,
 "nbformat_minor": 5
}
