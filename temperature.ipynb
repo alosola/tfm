{
 "cells": [
  {
   "cell_type": "code",
   "execution_count": null,
   "id": "a78cb78b",
   "metadata": {},
   "outputs": [],
   "source": [
    "from pathlib import Path\n",
    "from scipy.signal import find_peaks\n",
    "import numpy as np\n",
    "import matplotlib.pyplot as plt\n",
    "import matplotlib.patches as patches\n",
    "from matplotlib.patches import Rectangle\n",
    "from mpl_toolkits.axes_grid1 import make_axes_locatable\n",
    "import h5py\n",
    "import copy\n",
    "import pickle\n",
    "\n",
    "# Project modules\n",
    "from lib.Stokes import Stokes\n",
    "from functions.plot_data import plot_data\n",
    "from functions.plot_angle_gradient import plot_angle_gradient"
   ]
  },
  {
   "cell_type": "code",
   "execution_count": null,
   "id": "1b87cf6d",
   "metadata": {},
   "outputs": [],
   "source": [
    "# Open data files\n",
    "from functions.load_pickles import load_pickles\n",
    "stokes_list, _ = load_pickles(select='stokes')"
   ]
  },
  {
   "cell_type": "code",
   "execution_count": null,
   "id": "15ae46e0",
   "metadata": {},
   "outputs": [],
   "source": [
    "# Extract each Stokes parameter into dictionary, to make it easier to work with\n",
    "I = stokes_list['I']\n",
    "Q = stokes_list['Q']\n",
    "U = stokes_list['U']\n",
    "V = stokes_list['V']"
   ]
  },
  {
   "cell_type": "code",
   "execution_count": null,
   "id": "46c06f40",
   "metadata": {},
   "outputs": [],
   "source": [
    "# Constants\n",
    "kB = 1.3806488e-16 # [erg K-1]\n",
    "h = 6.6260755e-27  # [erg s]\n",
    "c = 2.99792458e10  # [cm · s−1]\n",
    "lambda0  = [6301.51*1e-8, 6302.50*1e-8]   # Angstroms to cm\n",
    "l = np.array([lambda0[0], np.mean(lambda0), lambda0[1]])\n",
    "Teff = 5780 # [K] T quiet sun average"
   ]
  },
  {
   "cell_type": "code",
   "execution_count": null,
   "id": "66a54205",
   "metadata": {},
   "outputs": [],
   "source": [
    "# Plot the spectrum with calibrated wavelengths, adding vertical lines to represent the four points selected for representation\n",
    "plt.figure(figsize=(8,5))\n",
    "plt.plot(I.wave_array, I.mean_quiet)\n",
    "plt.xlabel('Calibrated wavelength [nm]')\n",
    "\n",
    "# Select 4 frames leading up to the absorption line (each frame represents rising through the photosphere)\n",
    "selected_frames = np.array([29, 55, 75])\n",
    "plt.vlines(I.wave_array[selected_frames-1], I.mean_quiet.min(), I.mean_quiet.max(), colors='purple', ls='--', lw=1,)\n",
    "plt.vlines(I.wave_array[selected_frames+1], I.mean_quiet.min(), I.mean_quiet.max(), colors='purple', ls='--', lw=1,)\n",
    "plt.show()"
   ]
  },
  {
   "cell_type": "code",
   "execution_count": null,
   "id": "f347fc6c",
   "metadata": {},
   "outputs": [],
   "source": [
    "T_select = np.empty(np.shape(I.data[:,:,0]))\n",
    "frame=56\n",
    "\n",
    "print(f\"Calculating temperature from {I.wave_array[frame-1]} to {I.wave_array[frame+1]} Angstroms\")\n",
    "T_select[:,:] = (1/Teff - kB*l[0]/h/c * np.log(I.data_n[:,:,frame-1:frame+2].mean(axis=2)))**-1"
   ]
  },
  {
   "cell_type": "code",
   "execution_count": null,
   "id": "327d4199",
   "metadata": {},
   "outputs": [],
   "source": [
    "T = np.empty(np.shape(I.data[:,:,:]))\n",
    "for i in range(I.size_wave):\n",
    "    T[:,:,:] = (1/Teff - kB*I.wave_array[i]*1e-8/h/c * np.log(I.data_n[:,:,:]))**-1"
   ]
  },
  {
   "cell_type": "code",
   "execution_count": null,
   "id": "7511fb54",
   "metadata": {},
   "outputs": [],
   "source": [
    "plot_data(T[:,:,0], title=\"T frame 0\")\n",
    "plot_data(T[:,:,26], title=\"T frame 26\")\n"
   ]
  },
  {
   "cell_type": "code",
   "execution_count": null,
   "id": "d8f38f5b",
   "metadata": {},
   "outputs": [],
   "source": [
    "# Plot all 4 temperature maps as subplots in the same figure\n",
    "fig, axs = plt.subplots(1, 3, figsize=(12, 6))\n",
    "\n",
    "# Titles and scales for each subplot\n",
    "titles = [\n",
    "    \"Temperature in the line core, first line\",\n",
    "    \"Temperature in the continuum\",\n",
    "    \"Temperature in the line core, second line\"\n",
    "]\n",
    "scales = [\n",
    "    [T[:,:,0:2].min(), T[:,:,0:2].max()],\n",
    "    [T[:,:,0:2].min(), T[:,:,0:2].max()],\n",
    "    [T[:,:,2:4].min(), T[:,:,2:4].max()],\n",
    "    [T[:,:,2:4].min(), T[:,:,2:4].max()]\n",
    "]\n",
    "\n",
    "for i in range(3):\n",
    "    ax = axs[i]\n",
    "    im = ax.imshow(T_select[:,:,i], vmin=scales[i][0], vmax=scales[i][1], cmap='inferno', origin='lower')\n",
    "    ax.set_title(titles[i])\n",
    "    ax.set_xlabel('X')\n",
    "\n",
    "# TODO: fix the third image! it's smaller for some reason\n",
    "\n",
    "axs[0].set_ylabel('Y')\n",
    "fig.colorbar(im, ax=ax, orientation='vertical', fraction=0.046, pad=0.04, label='Temperature [K]')\n",
    "plt.tight_layout()\n",
    "plt.show()\n"
   ]
  },
  {
   "cell_type": "code",
   "execution_count": null,
   "id": "ebd211d3",
   "metadata": {},
   "outputs": [],
   "source": [
    "# Plot all 4 temperature maps as subplots in the same figure\n",
    "\n",
    "plot_data(T_select[:,:], colourmap='magma', colourbar_label='Temperature [K]')"
   ]
  },
  {
   "cell_type": "code",
   "execution_count": null,
   "id": "94abe816",
   "metadata": {},
   "outputs": [],
   "source": [
    "# Plot all 4 temperature maps as subplots in the same figure\n",
    "fig, axs = plt.subplots(1, 2, figsize=(9, 6))\n",
    "\n",
    "# Titles and labels for each subplot\n",
    "titles = [\n",
    "    \"Intensity in the continuum\",\n",
    "    \"Temperature in the continuum\",\n",
    "]\n",
    "\n",
    "labels = [\n",
    "    \"Intensity (normalised to 1)\",\n",
    "    \"Temperature [K]\",\n",
    "]\n",
    "\n",
    "data1 = I.data_n[:,:,selected_frames[1]-1:selected_frames[1]+2].mean(axis=2)\n",
    "\n",
    "for i in range(2):\n",
    "    ax = axs[i]\n",
    "    im = ax.imshow(T_select[:,:,1] if i == 1 else data1, cmap='inferno')\n",
    "    ax.set_title(titles[i])\n",
    "    ax.set_xlabel('X')\n",
    "    fig.colorbar(im, ax=ax, orientation='vertical', fraction=0.046, pad=0.04, label=labels[i])\n",
    "\n",
    "\n",
    "axs[0].set_ylabel('Y')\n",
    "plt.tight_layout()\n",
    "plt.show()\n"
   ]
  },
  {
   "cell_type": "code",
   "execution_count": null,
   "id": "d3479029",
   "metadata": {},
   "outputs": [],
   "source": [
    "print(f'Max temperature: {T_select[:,:,1].max()} K')\n",
    "print(f'Min temperature: {T_select[:,:,1].min()} K')\n",
    "\n",
    "# Select pixels of interest\n",
    "x_pix = np.array([500, 180, 290, 400, 320, 300])\n",
    "y_pix = np.array([118, 113, 538, 354, 428, 413])\n",
    "\n",
    "for i in range(np.size(x_pix)):\n",
    "    print(f'Pixel ({x_pix[i]}, {y_pix[i]}): T = {T_select[y_pix[i], x_pix[i], 1]:.2f} K')"
   ]
  },
  {
   "cell_type": "code",
   "execution_count": null,
   "id": "2b455f53",
   "metadata": {},
   "outputs": [],
   "source": [
    "A & (500, 118) & 5793.67 \\\\\n",
    "B & (180, 113) & 5520.89  \\\\\n",
    "C & (400, 354) & 5169.65 \\\\\n",
    "D & (290, 538) & 5550.55 \\\\\n",
    "E & (320, 428) & 3544.92 \\\\\n",
    "F & (300, 413) & 3715.14"
   ]
  },
  {
   "cell_type": "code",
   "execution_count": null,
   "id": "a1bd4160",
   "metadata": {},
   "outputs": [],
   "source": [
    "# Make rectangle around them, for better averaging\n",
    "xmin = x_pix - 3\n",
    "xmax = x_pix + 3\n",
    "ymin = y_pix - 3\n",
    "ymax = y_pix + 3\n",
    "xwidth = xmax - xmin\n",
    "ywidth = ymax - ymin\n",
    "\n",
    "# Plot intensity data\n",
    "fig, ax = plt.subplots(ncols=1, nrows=1, figsize=(8, 8))\n",
    "img = ax.imshow(T_select[:,:,1], cmap='cool', origin='lower')\n",
    "ax.set_axis_off()\n",
    "\n",
    "# Create rectangle patches and add the patch to the Axes\n",
    "for i in range(6):\n",
    "    ax.add_patch(Rectangle((xmin[i], ymin[i]), xwidth[i], ywidth[i], linewidth=2, edgecolor='r', facecolor='none'))\n",
    "\n",
    "\n",
    "# Save figure to file\n",
    "# fig.savefig(\"generated/polarisation_selection_square.png\", dpi=150)\n",
    "# print(\"Saved figure to file\", \"generated/polarisation_selection_square.png\")"
   ]
  },
  {
   "cell_type": "code",
   "execution_count": null,
   "id": "873bc88b",
   "metadata": {},
   "outputs": [],
   "source": [
    "# Plot profiles of each pixel\n",
    "pixel_titles = [f'Quiet sun', f'Exterior to  sunspot', f'Penumbra 1', f'Penmbra 2', f'Umbra 1', f'Umbra 2']\n",
    "fig, axs = plt.subplots(1,1, figsize=(12,7))\n",
    "fig.suptitle('Temperature variation for selected areas', fontsize=20)\n",
    "\n",
    "# Choose a colormap\n",
    "num_lines = 6\n",
    "cmap = plt.get_cmap('turbo')\n",
    "colors = [cmap(i / num_lines) for i in range(num_lines)]\n",
    "\n",
    "for j in range(num_lines):\n",
    "    axs.plot(I.wave_array, T[ymin[j]:ymax[j],xmin[j]:xmax[j],:].mean(axis=(0,1)), linestyle='-', label=pixel_titles[j], color=colors[j])\n",
    "    axs.set_xlabel(r'[$\\AA$]')\n",
    "    axs.set_ylabel('[K]')\n",
    "    # axs[row, col].vlines(line_wavelengths, stokes_list[param].data_n[y_pix[j],x_pix[j],:].min(), stokes_list[param].data_n[y_pix[j],x_pix[j],:].max(), colors='gray', linestyles='dashed')\n",
    "    # axs[i, j].legend()\n",
    "\n",
    "\n",
    "axs.legend()\n"
   ]
  },
  {
   "cell_type": "code",
   "execution_count": null,
   "id": "65c7b416",
   "metadata": {},
   "outputs": [],
   "source": [
    "# Select pixels of interest\n",
    "plate_scale_x = 0.14857 # arcseconds per pixel\n",
    "plate_scale_y = 0.16 # arcseconds per pixel\n",
    "x_pix = np.array([500, 180, 290, 400, 320, 300])\n",
    "y_pix = np.array([118, 113, 538, 354, 428, 413])\n",
    "# Plot polarization and selected points\n",
    "fig, ax, img = plot_data(nova.mp[:,:,0], colourmap='gist_earth', title='Selected pixels the polarisation map')\n",
    "fig.show()\n",
    "ax.scatter(x_pix*plate_scale_x, y_pix*plate_scale_y, facecolors='none', edgecolors='red')\n",
    "\n",
    "# TODO: adapt this to temp\n",
    "# TODO: https://medium.com/@marvelouskgc/three-ways-to-add-labels-to-each-data-point-in-a-scatter-plot-in-python-matplotlib-eugene-tsai-42e4094dc07e"
   ]
  },
  {
   "cell_type": "code",
   "execution_count": null,
   "id": "31544cfc",
   "metadata": {},
   "outputs": [],
   "source": [
    "# TODO: save temperature to stokes pickle7\n"
   ]
  }
 ],
 "metadata": {
  "kernelspec": {
   "display_name": "tfm",
   "language": "python",
   "name": "python3"
  },
  "language_info": {
   "codemirror_mode": {
    "name": "ipython",
    "version": 3
   },
   "file_extension": ".py",
   "mimetype": "text/x-python",
   "name": "python",
   "nbconvert_exporter": "python",
   "pygments_lexer": "ipython3",
   "version": "3.13.3"
  }
 },
 "nbformat": 4,
 "nbformat_minor": 5
}
