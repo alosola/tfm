{
 "cells": [
  {
   "cell_type": "code",
   "execution_count": null,
   "id": "ea2fe3d5",
   "metadata": {},
   "outputs": [],
   "source": [
    "from pathlib import Path\n",
    "from scipy.signal import find_peaks\n",
    "import numpy as np\n",
    "import matplotlib.pyplot as plt\n",
    "import matplotlib.patches as patches\n",
    "from mpl_toolkits.axes_grid1 import make_axes_locatable\n",
    "import h5py\n",
    "import copy\n",
    "import pickle\n",
    "\n",
    "# Project modules\n",
    "from lib.Stokes import Stokes\n",
    "from functions.plot_data import plot_data\n",
    "from functions.plot_angle_gradient import plot_angle_gradient"
   ]
  },
  {
   "cell_type": "code",
   "execution_count": null,
   "id": "181b1208",
   "metadata": {},
   "outputs": [],
   "source": [
    "# Open data files\n",
    "from functions.load_pickles import load_pickles\n",
    "stokes_list, _ = load_pickles(select=\"stokes\")"
   ]
  },
  {
   "cell_type": "code",
   "execution_count": null,
   "id": "c6a67622",
   "metadata": {},
   "outputs": [],
   "source": [
    "# Extract each Stokes parameter into dictionary, to make it easier to work with\n",
    "I = stokes_list['I']\n",
    "Q = stokes_list['Q']\n",
    "U = stokes_list['U']\n",
    "V = stokes_list['V']"
   ]
  },
  {
   "cell_type": "code",
   "execution_count": null,
   "id": "c6aed3cc",
   "metadata": {},
   "outputs": [],
   "source": [
    "# Define function to sum data along the third axis (sum all wavelengths)\n",
    "def sw(data):\n",
    "    return np.sum(data, axis=2)"
   ]
  },
  {
   "cell_type": "code",
   "execution_count": null,
   "id": "f5762c83",
   "metadata": {},
   "outputs": [],
   "source": [
    "# Calculate the vertical (longitudinal) component\n",
    "\n",
    "#NOTE: these values are divided into _1 for the first spectral line and _2 for the second spectral line\n",
    "lambda0  = [6301.51, 6302.50]  # in Angstroms\n",
    "gbar     = [1.669, 2.487] # Lozitsky\n",
    "C1 = [4.6686e-13 * l**2 * g for l, g in zip(lambda0, gbar)]\n",
    "print(f\"C1_1: {C1[0]}, C1_2: {C1[1]}\")\n",
    "\n",
    "f = 1 # filling factor, assumed to be 1\n",
    "\n",
    "line_cuttoff = 55 # index at which we divide the data, between the spectral lines\n",
    "\n",
    "\n",
    "\n",
    "# Calculate the horizontal (transverse) component\n",
    "\n",
    "Gbar = [g**2 for g in gbar]  # Landi Degl'Innocenti & Landolfi (2004), si la línea es un triplete #TODO\n",
    "C2 = [5.4490e-26 * l**4 * g for l, g in zip(lambda0, Gbar)]\n",
    "print(f\"C2_1: {C2[0]}, C2_2: {C2[1]}\")\n",
    "\n",
    "\n",
    "\n",
    "# Strong field approximation\n",
    "C = 4.67e-13 # TODO: where is this constant from? Sara's email (and PDF) 29/08\n"
   ]
  },
  {
   "cell_type": "code",
   "execution_count": null,
   "id": "a12d51ef",
   "metadata": {},
   "outputs": [],
   "source": [
    "Bv = [-sw((V.data_n * I.data_d)[:, :, :line_cuttoff]) / (C1[0] * f * sw((I.data_d ** 2)[:, :, :line_cuttoff])),\n",
    "       -sw((V.data_n * I.data_d)[:, :, line_cuttoff:]) / (C1[1] * f * sw((I.data_d ** 2)[:, :, line_cuttoff:]))]\n",
    "\n",
    "print(f'Mean Bv [G]:\\nFirst line: {np.mean(Bv[0])}\\nSecond line: {np.mean(Bv[1])}')"
   ]
  },
  {
   "cell_type": "code",
   "execution_count": null,
   "id": "815a4c15",
   "metadata": {},
   "outputs": [],
   "source": [
    "L = np.sqrt(Q.data_n**2 + U.data_n**2)\n",
    "Bt = [sw(L[:,:,:line_cuttoff] * np.abs(I.data_dd[:,:,:line_cuttoff])) / (C2[0] * f * sw(np.abs(I.data_dd[:,:,:line_cuttoff]))**2),\n",
    "       sw(L[:,:,line_cuttoff:] * np.abs(I.data_dd[:,:,line_cuttoff:])) / (C2[1] * f * sw(np.abs(I.data_dd[:,:,line_cuttoff:]))**2)]\n",
    "Bt = np.sqrt(Bt)\n",
    "\n",
    "\n",
    "print(f'Mean Bt [G]:\\nFirst line: {np.mean(Bt[0])}\\nSecond line: {np.mean(Bt[1])}')"
   ]
  },
  {
   "cell_type": "code",
   "execution_count": null,
   "id": "62a41cc7",
   "metadata": {},
   "outputs": [],
   "source": [
    "def noise_level(a):\n",
    "    a = np.asanyarray(a)\n",
    "    sd = a.std(ddof=1)\n",
    "    return sd\n",
    "\n",
    "# Example spectrum noise level\n",
    "spectrum = copy.copy(V.data_n[300,300,:])\n",
    "sd = noise_level(spectrum[90:])\n",
    "print(f'Noise level = {sd}')"
   ]
  },
  {
   "cell_type": "code",
   "execution_count": null,
   "id": "ecbf53d5",
   "metadata": {},
   "outputs": [],
   "source": [
    "# Calculate delta lambda_B for each pixel, for each line\n",
    "\n",
    "dlB = np.zeros(I.data.shape)[:,:,:2].astype(float)\n",
    "dlB_binary = np.zeros(I.data.shape)[:,:,:2].astype(float)\n",
    "margin = 3.5\n",
    "verbose = 0\n",
    "\n",
    "for i in range(0, np.shape(V.data_n)[0]):\n",
    "\n",
    "    # Read out every 50 rows\n",
    "    if np.mod(i,50) == 0:\n",
    "        print(f'Row {i} of {np.shape(V.data_n)[0]}')\n",
    "\n",
    "    for j in range(0, np.shape(V.data_n)[1]):\n",
    "        if (verbose):\n",
    "            print(f'For pixel {i},{j}:')\n",
    "\n",
    "        # Initialize variables\n",
    "        peaks_p = [0, 0]\n",
    "        peaks_n = [0, 0]\n",
    "\n",
    "        # Get the spectrum for this pixel\n",
    "        spectrum = copy.copy(V.data_n[i,j,:])\n",
    "\n",
    "        # Calculate noise level for spectrum region outside the spectral lines\n",
    "        sd = noise_level(spectrum[90:])\n",
    "        if (verbose):\n",
    "            print(f'Noise level = {sd}')\n",
    "\n",
    "        # First line\n",
    "        peaks_p[0] = int(np.argmax(spectrum[:60])) if spectrum[:60].max() > margin*sd else None\n",
    "        peaks_n[0] = int(np.argmin(spectrum[:60])) if spectrum[:60].min() < -margin*sd else None\n",
    "\n",
    "        # # Second line\n",
    "        peaks_p[1] = 60 + int(np.argmax(spectrum[60:])) if spectrum[60:].max() > margin*sd else None\n",
    "        peaks_n[1] = 60 + int(np.argmin(spectrum[60:])) if spectrum[60:].min() < -margin*sd else None\n",
    "\n",
    "        if (verbose):\n",
    "            print(f'Peak positions: {peaks_p}, {peaks_n}')\n",
    "\n",
    "        # If two peaks have been found for the first line, calculate dlB\n",
    "        if peaks_p[0] is not None and peaks_n[0] is not None:\n",
    "            dlB_binary[i, j, 0] = 1\n",
    "            dlB[i, j, 0] = np.array(V.wave_array)[peaks_p[0]] - np.array(V.wave_array)[peaks_n[0]]\n",
    "\n",
    "            if (verbose):\n",
    "                plt.figure()\n",
    "                plt.vlines(V.wave_array[peaks_n[0]], ymin=np.min(spectrum), ymax=np.max(spectrum), color='g', linestyle='--')\n",
    "                plt.vlines(V.wave_array[peaks_p[0]], ymin=np.min(spectrum), ymax=np.max(spectrum), color='purple', linestyle='--')\n",
    "\n",
    "                print(f'Peak 1 positive: {V.wave_array[peaks_p[0]]}')\n",
    "                print(f'Peak 1 negative: {V.wave_array[peaks_n[0]]}')\n",
    "                print(np.array(V.wave_array)[peaks_p[0]] - np.array(V.wave_array)[peaks_n[0]])\n",
    "                print(f'Distance: {dlB[i, j, 0]:.6f} Angstrom')\n",
    "        else:\n",
    "            dlB[i, j, 0] = np.nan\n",
    "\n",
    "\n",
    "        # If two peaks have been found for the second line, calculate dlB\n",
    "        if peaks_p[1] is not None and peaks_n[1] is not None:\n",
    "            dlB_binary[i, j, 1] = 1\n",
    "            dlB[i, j, 1] = np.array(V.wave_array)[peaks_p[1]] - np.array(V.wave_array)[peaks_n[1]]\n",
    "\n",
    "            if (verbose):\n",
    "                plt.figure()\n",
    "                plt.vlines(V.wave_array[peaks_n[1]], ymin=np.min(spectrum), ymax=np.max(spectrum), color='g', linestyle='--')\n",
    "                plt.vlines(V.wave_array[peaks_p[1]], ymin=np.min(spectrum), ymax=np.max(spectrum), color='purple', linestyle='--')\n",
    "\n",
    "                print(f'Peak 2 positive: {V.wave_array[peaks_p[1]]}')\n",
    "                print(f'Peak 2 negative: {V.wave_array[peaks_n[1]]}')\n",
    "                print(np.array(V.wave_array)[peaks_p[1]] - np.array(V.wave_array)[peaks_n[1]])\n",
    "                print(f'Distance: {dlB[i, j, 1]:.6f} Angstrom')\n",
    "        else:\n",
    "            dlB[i, j, 1] = np.nan\n",
    "\n",
    "        if (verbose):\n",
    "            plt.hlines(margin*sd, V.wave_array[0], V.wave_array[-1], color='red', linestyle='--')\n",
    "            plt.hlines(-margin*sd, V.wave_array[0], V.wave_array[-1], color='red', linestyle='--')\n",
    "            plt.plot(V.wave_array, spectrum, linestyle='-', color='black')"
   ]
  },
  {
   "cell_type": "code",
   "execution_count": null,
   "id": "cd0a42a3",
   "metadata": {},
   "outputs": [],
   "source": [
    "plot_data(dlB[:,:,0], title=r\"$\\Delta \\lambda _B$, in $\\mathrm{\\AA}$\")"
   ]
  },
  {
   "cell_type": "code",
   "execution_count": null,
   "id": "ed5ce541",
   "metadata": {},
   "outputs": [],
   "source": [
    "plot_data(Bv[:,:,0], title=r\"$B$, in G$\")"
   ]
  },
  {
   "cell_type": "code",
   "execution_count": null,
   "id": "d4d702d9",
   "metadata": {},
   "outputs": [],
   "source": [
    "# Calculate strong magnetic field\n",
    "B_strong = dlB / (2 * C * np.array(lambda0)**2 * np.array(gbar))"
   ]
  },
  {
   "cell_type": "code",
   "execution_count": null,
   "id": "781c0ee5",
   "metadata": {},
   "outputs": [],
   "source": [
    "Bv = np.moveaxis(Bv, 0, -1)\n",
    "Bt = np.moveaxis(Bt, 0, -1)"
   ]
  },
  {
   "cell_type": "code",
   "execution_count": null,
   "id": "9453bedc",
   "metadata": {},
   "outputs": [],
   "source": [
    "# Constants\n",
    "kB = 1.3806488e-16 # [erg K-1]\n",
    "h = 6.6260755e-27  # [erg s]\n",
    "c = 2.99792458e10  # [cm · s−1]\n",
    "lambda0  = np.array([6301.51*1e-8, 6302.50*1e-8])   # Angstroms to cm\n",
    "l = np.mean(lambda0)\n",
    "Icont = I.data_n[:,:,:5].mean(axis=2) # I map in continuum\n",
    "Teff = 5780 # [K] T quiet sun average\n",
    "T = (1/Teff - kB*l/(h*c) * np.log(Icont))**-1\n",
    "M = 55.845 # Fe atomic mass, [g mol-1]\n",
    "av = 6.022e23 # avogadro, [mol-1]\n",
    "m =  M/av\n",
    "Xi = 0 # microturbulence, assumed 0\n",
    "\n",
    "# Rebecca Centeno, equation 3\n",
    "dlD = np.array([6301.5/c * np.sqrt(2*kB*T/m + Xi**2), 6302.5/c * np.sqrt(2*kB*T/m + Xi**2)]) # will be in units of lambda, in this case Angstrom\n",
    "\n",
    "dlD = np.moveaxis(dlD, 0, -1)\n",
    "np.shape(dlD)\n",
    "# plot_data(dlD[:,:,0], title=r\"$\\Delta \\lambda _D$, in $\\mathrm{\\AA}$\")"
   ]
  },
  {
   "cell_type": "code",
   "execution_count": null,
   "id": "fd89963c",
   "metadata": {},
   "outputs": [],
   "source": [
    "# remove outliers\n",
    "B_strong[B_strong > 5000] = np.nan\n",
    "B_strong[B_strong < -5000] = np.nan"
   ]
  },
  {
   "cell_type": "code",
   "execution_count": null,
   "id": "a17ffd2f",
   "metadata": {},
   "outputs": [],
   "source": [
    "B = np.empty(Bv.shape)\n",
    "B[:,:,:] = np.nan\n",
    "B_mask = np.zeros(Bv.shape) * np.nan\n",
    "# gamma = np.zeros(derived.weak.Bv.shape) * np.nan\n",
    "# chi = np.zeros(derived.weak.Bv.shape) * np.nan\n",
    "\n",
    "for i in range(I.data.shape[0]):\n",
    "    for j in range(I.data.shape[1]):\n",
    "        for k in range(0,2):\n",
    "            if (dlB_binary[i,j,k] == 0) or np.isnan(dlB[i,j,k]) or (np.abs(dlB[i,j,k]) < np.abs(dlD[i,j,k])):\n",
    "                # If dlB could not be calculated, or if it is less than the doppler effect\n",
    "                B[i,j,k] = np.sqrt(Bv[i,j,k]**2 + Bt[i,j,k]**2)\n",
    "                B_mask[i,j,k] = 0\n",
    "                # chi[i,j,k] = derived.weak.chi[i,j,k]\n",
    "                # gamma[i,j,k] = derived.weak.gamma[i,j,k]\n",
    "            else:\n",
    "                # Use strong field approximation otherwise\n",
    "                B[i,j,k] = B_strong[i,j,k]\n",
    "                B_mask[i,j,k] = 1\n",
    "                # chi[i,j,k] = derived.strong.chi[i,j,k]\n",
    "                # gamma[i,j,k] = derived.strong.gamma[i,j,k]"
   ]
  },
  {
   "cell_type": "code",
   "execution_count": null,
   "id": "3ff7fdfd",
   "metadata": {},
   "outputs": [],
   "source": [
    "print(np.abs(dlD[300,300,0]))\n",
    "print(np.abs(dlB[300,300,0]))"
   ]
  },
  {
   "cell_type": "code",
   "execution_count": null,
   "id": "5b5228b9",
   "metadata": {},
   "outputs": [],
   "source": [
    "# Histogram of derived.strong.B[:,:,0]\n",
    "plt.figure()\n",
    "plt.hist(dlB[:,:,0].ravel(), bins=100, color='blue', alpha=0.7)\n",
    "plt.xlabel('Magnetic field strength (first line)')\n",
    "plt.ylabel('Count')\n",
    "plt.title('Histogram of dlB[:,:,0]')\n",
    "plt.show()"
   ]
  },
  {
   "cell_type": "code",
   "execution_count": null,
   "id": "66aa67fe",
   "metadata": {},
   "outputs": [],
   "source": [
    "# Histogram of derived.strong.B[:,:,0]\n",
    "plt.figure()\n",
    "plt.hist(B[:,:,0].ravel(), bins=100, color='blue', alpha=0.7)\n",
    "plt.xlabel('Magnetic field strength (first line)')\n",
    "plt.ylabel('Count')\n",
    "plt.title('Histogram of B[:,:,0]')\n",
    "plt.show()"
   ]
  },
  {
   "cell_type": "code",
   "execution_count": null,
   "id": "279439c1",
   "metadata": {},
   "outputs": [],
   "source": [
    "# remove outliers\n",
    "dlB[dlB > 0.27] = np.nan\n",
    "dlB[dlB < -0.27] = np.nan"
   ]
  },
  {
   "cell_type": "code",
   "execution_count": null,
   "id": "383f7c77",
   "metadata": {},
   "outputs": [],
   "source": [
    "plot_data(dlB[:,:,0], colourmap='berlin', title=r\"$\\Delta \\lambda _B$, 6301.5 $\\mathrm{\\AA}$, in $\\mathrm{\\AA}$\")"
   ]
  },
  {
   "cell_type": "code",
   "execution_count": null,
   "id": "e8945d26",
   "metadata": {},
   "outputs": [],
   "source": [
    "plot_data(B[:,:,0], colourmap='PuOr', title=r\"B combined [G]\")"
   ]
  },
  {
   "cell_type": "code",
   "execution_count": null,
   "id": "83bc539d",
   "metadata": {},
   "outputs": [],
   "source": [
    "plot_data(dlB[:,:,0] > dlD[:,:,0], colourmap='grey')"
   ]
  }
 ],
 "metadata": {
  "kernelspec": {
   "display_name": "tfm",
   "language": "python",
   "name": "python3"
  },
  "language_info": {
   "codemirror_mode": {
    "name": "ipython",
    "version": 3
   },
   "file_extension": ".py",
   "mimetype": "text/x-python",
   "name": "python",
   "nbconvert_exporter": "python",
   "pygments_lexer": "ipython3",
   "version": "3.13.3"
  }
 },
 "nbformat": 4,
 "nbformat_minor": 5
}
