{
 "cells": [
  {
   "cell_type": "code",
   "execution_count": null,
   "id": "ea2fe3d5",
   "metadata": {},
   "outputs": [],
   "source": [
    "from pathlib import Path\n",
    "from scipy.signal import find_peaks\n",
    "import numpy as np\n",
    "import matplotlib.pyplot as plt\n",
    "import matplotlib.patches as patches\n",
    "import matplotlib.colors as colors\n",
    "from mpl_toolkits.axes_grid1 import make_axes_locatable\n",
    "import h5py\n",
    "import copy\n",
    "import pickle\n",
    "\n",
    "# Project modules\n",
    "from lib.Stokes import Stokes\n",
    "from functions.plot_data import plot_data\n",
    "from functions.plot_angle_gradient import plot_angle_gradient"
   ]
  },
  {
   "cell_type": "code",
   "execution_count": null,
   "id": "181b1208",
   "metadata": {},
   "outputs": [],
   "source": [
    "# Open data files\n",
    "from functions.load_pickles import load_pickles\n",
    "stokes_list, _ = load_pickles(select=\"stokes\")"
   ]
  },
  {
   "cell_type": "code",
   "execution_count": null,
   "id": "c6a67622",
   "metadata": {},
   "outputs": [],
   "source": [
    "# Extract each Stokes parameter into dictionary, to make it easier to work with\n",
    "I = stokes_list['I']\n",
    "Q = stokes_list['Q']\n",
    "U = stokes_list['U']\n",
    "V = stokes_list['V']"
   ]
  },
  {
   "cell_type": "code",
   "execution_count": null,
   "id": "c6aed3cc",
   "metadata": {},
   "outputs": [],
   "source": [
    "# Define function to sum data along the third axis (sum all wavelengths)\n",
    "def sw(data):\n",
    "    return np.sum(data, axis=2)"
   ]
  },
  {
   "cell_type": "code",
   "execution_count": null,
   "id": "f5762c83",
   "metadata": {},
   "outputs": [],
   "source": [
    "# Calculate the vertical (longitudinal) component\n",
    "\n",
    "#NOTE: these values are divided into _1 for the first spectral line and _2 for the second spectral line\n",
    "lambda0  = [6301.51, 6302.50]  # in Angstroms\n",
    "gbar     = [1.669, 2.487] # Lozitsky\n",
    "C1 = [4.6686e-13 * l**2 * g for l, g in zip(lambda0, gbar)]\n",
    "print(f\"C1_1: {C1[0]}, C1_2: {C1[1]}\")\n",
    "\n",
    "f = 1 # filling factor, assumed to be 1\n",
    "\n",
    "line_cuttoff = 55 # index at which we divide the data, between the spectral lines\n",
    "\n",
    "\n",
    "\n",
    "# Calculate the horizontal (transverse) component\n",
    "\n",
    "Gbar = [g**2 for g in gbar]  # Landi Degl'Innocenti & Landolfi (2004), si la línea es un triplete #TODO\n",
    "C2 = [5.4490e-26 * l**4 * g for l, g in zip(lambda0, Gbar)]\n",
    "print(f\"C2_1: {C2[0]}, C2_2: {C2[1]}\")\n",
    "\n",
    "print(Gbar)\n",
    "\n",
    "# Strong field approximation\n",
    "C = 4.67e-13 # TODO: where is this constant from? Sara's email (and PDF) 29/08\n"
   ]
  },
  {
   "cell_type": "code",
   "execution_count": null,
   "id": "a12d51ef",
   "metadata": {},
   "outputs": [],
   "source": [
    "Bv = [-sw((V.data_n * I.data_d)[:, :, :line_cuttoff]) / (C1[0] * f * sw((I.data_d ** 2)[:, :, :line_cuttoff])),\n",
    "       -sw((V.data_n * I.data_d)[:, :, line_cuttoff:]) / (C1[1] * f * sw((I.data_d ** 2)[:, :, line_cuttoff:]))]\n",
    "\n",
    "print(f'Mean Bv [G]:\\nFirst line: {np.mean(Bv[0])}\\nSecond line: {np.mean(Bv[1])}')"
   ]
  },
  {
   "cell_type": "code",
   "execution_count": null,
   "id": "be95217e",
   "metadata": {},
   "outputs": [],
   "source": [
    "class MidpointNormalize(colors.Normalize):\n",
    "    def __init__(self, vmin, vmax, midpoint=0, clip=False):\n",
    "        self.midpoint = midpoint\n",
    "        colors.Normalize.__init__(self, vmin, vmax, clip)\n",
    "\n",
    "    def __call__(self, value, clip=None):\n",
    "        normalized_min = max(0, 1 / 2 * (1 - abs((self.midpoint - self.vmin) / (self.midpoint - self.vmax))))\n",
    "        normalized_max = min(1, 1 / 2 * (1 + abs((self.vmax - self.midpoint) / (self.midpoint - self.vmin))))\n",
    "        normalized_mid = 0.5\n",
    "        x, y = [self.vmin, self.midpoint, self.vmax], [normalized_min, normalized_mid, normalized_max]\n",
    "        return np.ma.masked_array(np.interp(value, x, y))\n"
   ]
  },
  {
   "cell_type": "code",
   "execution_count": null,
   "id": "7f10a171",
   "metadata": {},
   "outputs": [],
   "source": [
    "divnorm=MidpointNormalize(vmin=-3000, vmax=4000, midpoint=0)\n",
    "plot_data(Bv[0], colourmap='berlin_r', norm=divnorm, colourbar_label=r'$B_{||}$ [G]')"
   ]
  },
  {
   "cell_type": "code",
   "execution_count": null,
   "id": "815a4c15",
   "metadata": {},
   "outputs": [],
   "source": [
    "L = np.sqrt(Q.data_n**2 + U.data_n**2)\n",
    "Bt = [sw(L[:,:,:line_cuttoff] * np.abs(I.data_dd[:,:,:line_cuttoff])) / (C2[0] * f * sw(np.abs(I.data_dd[:,:,:line_cuttoff]))**2),\n",
    "       sw(L[:,:,line_cuttoff:] * np.abs(I.data_dd[:,:,line_cuttoff:])) / (C2[1] * f * sw(np.abs(I.data_dd[:,:,line_cuttoff:]))**2)]\n",
    "Bt = np.sqrt(Bt)\n",
    "\n",
    "\n",
    "print(f'Mean Bt [G]:\\nFirst line: {np.mean(Bt[0])}\\nSecond line: {np.mean(Bt[1])}')"
   ]
  },
  {
   "cell_type": "code",
   "execution_count": null,
   "id": "dcdbb084",
   "metadata": {},
   "outputs": [],
   "source": [
    "divnorm=MidpointNormalize(vmin=50, vmax=500, midpoint=0)\n",
    "\n",
    "plot_data(Bt[0], colourmap='berlin_r', norm=divnorm, colourbar_label=r'$B_{\\perp}$ [G]')"
   ]
  },
  {
   "cell_type": "code",
   "execution_count": null,
   "id": "cf168297",
   "metadata": {},
   "outputs": [],
   "source": [
    "B_WFA = np.sqrt(Bv[0]**2 + Bt[0]**2)\n",
    "print(f'Mean B [G]: {np.mean(B_WFA)}')\n",
    "\n",
    "divnorm=MidpointNormalize(vmin=-3000, vmax=4000, midpoint=0)\n",
    "plot_data(B_WFA, colourmap='berlin_r', norm=divnorm, colourbar_label=r'$B$ [G]')"
   ]
  },
  {
   "cell_type": "code",
   "execution_count": null,
   "id": "c80ab525",
   "metadata": {},
   "outputs": [],
   "source": [
    "# Calculate inclination angle\n",
    "\n",
    "const = [4/3 * g**2/G for g, G in (gbar, Gbar)]\n",
    "\n",
    "num = [sw(np.abs(I.wave_array[:line_cuttoff] - lambda0[0]) * np.abs(L[:,:,:line_cuttoff]) * V.data_n[:,:,:line_cuttoff]**2 * np.abs(I.data_d[:,:,:line_cuttoff])),\n",
    "         sw(np.abs(I.wave_array[line_cuttoff:] - lambda0[1]) * np.abs(L[:,:,line_cuttoff:]) * V.data_n[:,:,line_cuttoff:]**2 * np.abs(I.data_d[:,:,line_cuttoff:]))]\n",
    "denom = [sw(np.abs(V.data_n[:,:,:line_cuttoff])**4),\n",
    "         sw(np.abs(V.data_n[:,:,line_cuttoff:])**4)]\n",
    "tan2gamma = [const[0] * num[0] / denom[0],\n",
    "             const[1] * num[1] / denom[1]]\n",
    "gamma_mod = np.arctan(np.sqrt(tan2gamma))"
   ]
  },
  {
   "cell_type": "code",
   "execution_count": null,
   "id": "41d05ef6",
   "metadata": {},
   "outputs": [],
   "source": [
    "shape = I.data_n[:, :, 0].shape\n",
    "sign_gamma = np.zeros(shape)\n",
    "gamma = np.copy(gamma_mod[0])\n",
    "\n",
    "for i in range(0, shape[0]):\n",
    "    for j in range(0, shape[1]):\n",
    "        x = I.wave_array[:line_cuttoff]\n",
    "        y = V.data_n[i,j,:line_cuttoff]\n",
    "\n",
    "        # Find wavelength of peak\n",
    "        peak = np.argmax(y)\n",
    "\n",
    "        # Sign comes from whether peak is blue or redshifted with respect to line center\n",
    "        sign_gamma[i,j] = x[peak] < lambda0[0]\n",
    "\n",
    "        if sign_gamma[i,j] == 0:\n",
    "            gamma[i,j] = np.pi - gamma[i,j]"
   ]
  },
  {
   "cell_type": "code",
   "execution_count": null,
   "id": "9fbebbca",
   "metadata": {},
   "outputs": [],
   "source": [
    "plot_angle_gradient(gamma, colourbar_label=r'$\\gamma$ [deg]')"
   ]
  },
  {
   "cell_type": "code",
   "execution_count": null,
   "id": "6e372d1b",
   "metadata": {},
   "outputs": [],
   "source": [
    "# Compute the inclination angle, simpler\n",
    "theta = np.arctan(Bt[0] / Bv[0])"
   ]
  },
  {
   "cell_type": "code",
   "execution_count": null,
   "id": "49229c48",
   "metadata": {},
   "outputs": [],
   "source": [
    "# Set all negative values of theta to theta + pi\n",
    "theta[theta < 0] += np.pi"
   ]
  },
  {
   "cell_type": "code",
   "execution_count": null,
   "id": "9a54abed",
   "metadata": {},
   "outputs": [],
   "source": [
    "plot_angle_gradient(theta, colourbar_label=r'$\\theta$ [deg]')\n",
    "plot_angle_gradient(gamma, colourbar_label=r'$\\gamma$ [deg]')"
   ]
  },
  {
   "cell_type": "code",
   "execution_count": null,
   "id": "c9793473",
   "metadata": {},
   "outputs": [],
   "source": [
    "# Compute the azimuth angle (equal for both lines, does not depend on wavelength or Landé factor)\n",
    "chi_mod = [np.arctan(sw(U.data_n[:, :, :line_cuttoff] * I.data_dd[:, :, :line_cuttoff]) / sw(Q.data_n[:, :, :line_cuttoff] * I.data_dd[:, :, :line_cuttoff])) / 2,\n",
    "    np.arctan(sw(U.data_n[:, :, line_cuttoff:] * I.data_dd[:, :, line_cuttoff:]) / sw(Q.data_n[:, :, line_cuttoff:] * I.data_dd[:, :, line_cuttoff:])) / 2]"
   ]
  },
  {
   "cell_type": "code",
   "execution_count": null,
   "id": "d871a38a",
   "metadata": {},
   "outputs": [],
   "source": [
    "# Find sign of blue lobe peak\n",
    "shape = np.shape(I.data_n[:,:,0])\n",
    "sign_chi = np.zeros(shape)\n",
    "chi = np.copy(chi_mod[0])\n",
    "\n",
    "for i in range(0, shape[0]):\n",
    "    for j in range(0, shape[1]):\n",
    "        # Sign comes from sign of the vertical component\n",
    "        sign_chi[i,j] = np.sign(Bv[0][i,j])\n",
    "\n",
    "        if sign_chi[i,j] < 0:\n",
    "            chi[i,j] = np.pi - chi[i,j]"
   ]
  },
  {
   "cell_type": "code",
   "execution_count": null,
   "id": "35c569ca",
   "metadata": {},
   "outputs": [],
   "source": [
    "plot_angle_gradient(chi, colourbar_label=r'$\\chi$ [deg]')"
   ]
  },
  {
   "cell_type": "code",
   "execution_count": null,
   "id": "30c77c14",
   "metadata": {},
   "outputs": [],
   "source": [
    "num = sw(U.data_n[:, :, :line_cuttoff] * I.data_dd[:, :, :line_cuttoff])\n",
    "den = sw(Q.data_n[:, :, :line_cuttoff] * I.data_dd[:, :, :line_cuttoff])\n",
    "phi = 0.5 * np.arctan(num/den)"
   ]
  },
  {
   "cell_type": "code",
   "execution_count": null,
   "id": "89a24c05",
   "metadata": {},
   "outputs": [],
   "source": [
    "for i in range(0, shape[0]):\n",
    "    for j in range(0, shape[1]):\n",
    "        if den[i,j] < 0:\n",
    "            phi[i,j] += np.pi/2\n",
    "        elif num[i,j] < 0 and den[i,j] > 0:\n",
    "            phi[i,j] += 2*np.pi\n",
    "        if den[i,j] == 0:\n",
    "            if num[i,j] > 0:\n",
    "                phi[i,j] += np.pi/4\n",
    "            elif num[i,j] < 0:\n",
    "                phi[i,j] += 3/4*np.pi"
   ]
  },
  {
   "cell_type": "code",
   "execution_count": null,
   "id": "1a194a27",
   "metadata": {},
   "outputs": [],
   "source": [
    "plot_angle_gradient(chi, colourbar_label=r'$\\phi$ [deg]', scale=[0,180])"
   ]
  },
  {
   "cell_type": "code",
   "execution_count": null,
   "id": "17698e85",
   "metadata": {},
   "outputs": [],
   "source": [
    "# Downsample phi by averaging 20x20 pixel blocks\n",
    "def block_average(arr, block_size):\n",
    "    ny, nx = arr.shape\n",
    "    by = ny // block_size\n",
    "    bx = nx // block_size\n",
    "    arr_cropped = arr[:by*block_size, :bx*block_size]\n",
    "    arr_reshaped = arr_cropped.reshape(by, block_size, bx, block_size)\n",
    "    arr_blocked = arr_reshaped.mean(axis=(1,3))\n",
    "    return arr_blocked\n",
    "\n",
    "phi_blocked = block_average(phi, 20)"
   ]
  },
  {
   "cell_type": "code",
   "execution_count": null,
   "id": "c8ed6c93",
   "metadata": {},
   "outputs": [],
   "source": [
    "plot_angle_gradient(phi_blocked, colourbar_label=r'$\\phi$ [deg]', scale=[0,180])"
   ]
  },
  {
   "cell_type": "code",
   "execution_count": null,
   "id": "c3b2d7c9",
   "metadata": {},
   "outputs": [],
   "source": [
    "# Plot phi_blocked as lines with inclination representing the angle\n",
    "fig, ax = plt.subplots(figsize=(8,8))\n",
    "\n",
    "# extent=[0, 89.88485, 0, 122.88] %TODO\n",
    "divnorm=MidpointNormalize(vmin=-3000, vmax=4000, midpoint=0)\n",
    "img = ax.imshow(B_WFA, cmap='grey', origin='lower')\n",
    "divider = make_axes_locatable(ax)\n",
    "cax = divider.append_axes(\"right\", size=\"5%\", pad=0.05)\n",
    "fig.colorbar(img, cax=cax, label='B [Gauss]')\n",
    "\n",
    "nrows, ncols = phi_blocked.shape\n",
    "block_size = 20\n",
    "for i in range(nrows):\n",
    "    for j in range(ncols):\n",
    "        # Center of each block\n",
    "        y = i * block_size + block_size/2\n",
    "        x = j * block_size + block_size/2\n",
    "        angle = phi_blocked[i, j]\n",
    "        # Length of the line\n",
    "        length = block_size * 0.8\n",
    "        # Convert angle from degrees to radians if needed\n",
    "        theta_rad = angle\n",
    "        # The angle phi is usually measured from the +x axis, but matplotlib's y axis increases downward.\n",
    "        # To match image orientation, flip the sign of sin component:\n",
    "        dx = length/2 * np.cos(theta_rad)\n",
    "        dy = length/2 * np.sin(theta_rad)\n",
    "        ax.plot([x-dx, x+dx], [y-dy, y+dy], color='red', lw=0.8)\n",
    "ax.set_aspect('equal')\n",
    "ax.set_xlim(0, ncols*block_size)\n",
    "ax.set_ylim(0, nrows*block_size)\n",
    "ax.set_xlabel('X')\n",
    "ax.set_ylabel('Y')\n",
    "ax.set_title(r'Inclination map from $\\phi$ (block-averaged)')\n",
    "plt.show()"
   ]
  },
  {
   "cell_type": "code",
   "execution_count": null,
   "id": "62a41cc7",
   "metadata": {},
   "outputs": [],
   "source": [
    "def noise_level(a):\n",
    "    a = np.asanyarray(a)\n",
    "    sd = a.std(ddof=1)\n",
    "    return sd\n",
    "\n",
    "# Example spectrum noise level\n",
    "spectrum = copy.copy(V.data_n[300,300,:])\n",
    "sd = noise_level(spectrum[90:])\n",
    "print(f'Noise level = {sd}')"
   ]
  },
  {
   "cell_type": "code",
   "execution_count": null,
   "id": "ecbf53d5",
   "metadata": {},
   "outputs": [],
   "source": [
    "# Calculate delta lambda_B for each pixel, for each line\n",
    "\n",
    "dlB = np.zeros(I.data.shape)[:,:,:2].astype(float)\n",
    "dlB_binary = np.zeros(I.data.shape)[:,:,:2].astype(float)\n",
    "margin = 3.5\n",
    "verbose = 0\n",
    "\n",
    "for i in range(0, np.shape(V.data_n)[0]):\n",
    "\n",
    "    # Read out every 50 rows\n",
    "    if np.mod(i,50) == 0:\n",
    "        print(f'Row {i} of {np.shape(V.data_n)[0]}')\n",
    "\n",
    "    for j in range(0, np.shape(V.data_n)[1]):\n",
    "        if (verbose):\n",
    "            print(f'For pixel {i},{j}:')\n",
    "\n",
    "        # Initialize variables\n",
    "        peaks_p = [0, 0]\n",
    "        peaks_n = [0, 0]\n",
    "\n",
    "        # Get the spectrum for this pixel\n",
    "        spectrum = copy.copy(V.data_n[i,j,:])\n",
    "\n",
    "        # Calculate noise level for spectrum region outside the spectral lines\n",
    "        sd = noise_level(spectrum[90:])\n",
    "        if (verbose):\n",
    "            print(f'Noise level = {sd}')\n",
    "\n",
    "        # First line\n",
    "        peaks_p[0] = int(np.argmax(spectrum[:60])) if spectrum[:60].max() > margin*sd else None\n",
    "        peaks_n[0] = int(np.argmin(spectrum[:60])) if spectrum[:60].min() < -margin*sd else None\n",
    "\n",
    "        # # Second line\n",
    "        peaks_p[1] = 60 + int(np.argmax(spectrum[60:])) if spectrum[60:].max() > margin*sd else None\n",
    "        peaks_n[1] = 60 + int(np.argmin(spectrum[60:])) if spectrum[60:].min() < -margin*sd else None\n",
    "\n",
    "        if (verbose):\n",
    "            print(f'Peak positions: {peaks_p}, {peaks_n}')\n",
    "\n",
    "        # If two peaks have been found for the first line, calculate dlB\n",
    "        if peaks_p[0] is not None and peaks_n[0] is not None:\n",
    "            dlB_binary[i, j, 0] = 1\n",
    "            dlB[i, j, 0] = np.array(V.wave_array)[peaks_p[0]] - np.array(V.wave_array)[peaks_n[0]]\n",
    "\n",
    "            if (verbose):\n",
    "                plt.figure()\n",
    "                plt.vlines(V.wave_array[peaks_n[0]], ymin=np.min(spectrum), ymax=np.max(spectrum), color='g', linestyle='--')\n",
    "                plt.vlines(V.wave_array[peaks_p[0]], ymin=np.min(spectrum), ymax=np.max(spectrum), color='purple', linestyle='--')\n",
    "\n",
    "                print(f'Peak 1 positive: {V.wave_array[peaks_p[0]]}')\n",
    "                print(f'Peak 1 negative: {V.wave_array[peaks_n[0]]}')\n",
    "                print(np.array(V.wave_array)[peaks_p[0]] - np.array(V.wave_array)[peaks_n[0]])\n",
    "                print(f'Distance: {dlB[i, j, 0]:.6f} Angstrom')\n",
    "        else:\n",
    "            dlB[i, j, 0] = np.nan\n",
    "\n",
    "\n",
    "        # If two peaks have been found for the second line, calculate dlB\n",
    "        if peaks_p[1] is not None and peaks_n[1] is not None:\n",
    "            dlB_binary[i, j, 1] = 1\n",
    "            dlB[i, j, 1] = np.array(V.wave_array)[peaks_p[1]] - np.array(V.wave_array)[peaks_n[1]]\n",
    "\n",
    "            if (verbose):\n",
    "                plt.figure()\n",
    "                plt.vlines(V.wave_array[peaks_n[1]], ymin=np.min(spectrum), ymax=np.max(spectrum), color='g', linestyle='--')\n",
    "                plt.vlines(V.wave_array[peaks_p[1]], ymin=np.min(spectrum), ymax=np.max(spectrum), color='purple', linestyle='--')\n",
    "\n",
    "                print(f'Peak 2 positive: {V.wave_array[peaks_p[1]]}')\n",
    "                print(f'Peak 2 negative: {V.wave_array[peaks_n[1]]}')\n",
    "                print(np.array(V.wave_array)[peaks_p[1]] - np.array(V.wave_array)[peaks_n[1]])\n",
    "                print(f'Distance: {dlB[i, j, 1]:.6f} Angstrom')\n",
    "        else:\n",
    "            dlB[i, j, 1] = np.nan\n",
    "\n",
    "        if (verbose):\n",
    "            plt.hlines(margin*sd, V.wave_array[0], V.wave_array[-1], color='red', linestyle='--')\n",
    "            plt.hlines(-margin*sd, V.wave_array[0], V.wave_array[-1], color='red', linestyle='--')\n",
    "            plt.plot(V.wave_array, spectrum, linestyle='-', color='black')"
   ]
  },
  {
   "cell_type": "code",
   "execution_count": null,
   "id": "cd0a42a3",
   "metadata": {},
   "outputs": [],
   "source": [
    "# Select pixels of interest\n",
    "verbose=1\n",
    "plate_scale_x = 0.14857 # arcseconds per pixel\n",
    "plate_scale_y = 0.16 # arcseconds per pixel\n",
    "x_pix = np.array([500, 180, 290, 400, 320, 300])\n",
    "y_pix = np.array([118, 113, 538, 354, 428, 413])\n",
    "pix_name=['A', 'B', 'C', 'D', 'E', 'F']\n",
    "margin = 3\n",
    "\n",
    "fig, axs = plt.subplots(3, 2, figsize=(9, 7.5))\n",
    "\n",
    "for i in range(6):\n",
    "\n",
    "    # Initialize variables\n",
    "    peaks_p = [0, 0]\n",
    "    peaks_n = [0, 0]\n",
    "\n",
    "    # Get the spectrum for this pixel\n",
    "    spectrum = copy.copy(V.data_n[y_pix[i],x_pix[i],:])\n",
    "\n",
    "    # Calculate noise level for spectrum region outside the spectral lines\n",
    "    sd = noise_level(spectrum[90:])\n",
    "\n",
    "    # First line\n",
    "    peaks_p[0] = int(np.argmax(spectrum[:60])) if spectrum[:60].max() > margin*sd else None\n",
    "    peaks_n[0] = int(np.argmin(spectrum[:60])) if spectrum[:60].min() < -margin*sd else None\n",
    "\n",
    "    # # Second line\n",
    "    peaks_p[1] = 60 + int(np.argmax(spectrum[60:])) if spectrum[60:].max() > margin*sd else None\n",
    "    peaks_n[1] = 60 + int(np.argmin(spectrum[60:])) if spectrum[60:].min() < -margin*sd else None\n",
    "\n",
    "    if (verbose):\n",
    "        row, col = divmod(i, 2)\n",
    "        ax = axs[row, col]\n",
    "        ax.set_title(f'Pixel {pix_name[i]}: '+r'$\\Delta \\lambda_B$' f'= [{dlB[y_pix[i], x_pix[i], 0]:.4f}, {dlB[y_pix[i], x_pix[i], 1]:.4f}] ' + r'$\\AA$')\n",
    "\n",
    "        # Only plot if there are no None values in peaks_p or peaks_n\n",
    "        if all(p is not None for p in peaks_p) and all(n is not None for n in peaks_n):\n",
    "            for k in range(2):\n",
    "                ax.axvline(V.wave_array[peaks_p[k]], color='purple', linewidth=0.8)\n",
    "                ax.axvline(V.wave_array[peaks_n[k]], color='green', linewidth=0.8)\n",
    "\n",
    "        ax.plot(I.wave_array, V.data_n[y_pix[i],x_pix[i],:], label='I data', linewidth=0.4, marker='.', markersize=5)\n",
    "        # Remove inner axes\n",
    "        if row < 2 and col < 2:\n",
    "            ax.set_xticks([])\n",
    "        else:\n",
    "            ax.set_xlabel(r'Wavelength [$\\AA$]')\n",
    "\n",
    "        ax.set_ylabel('V')\n",
    "\n",
    "axs[0, 0].set_title('Pixel A (no peaks detected)')\n",
    "plt.tight_layout()\n",
    "plt.show()"
   ]
  },
  {
   "cell_type": "code",
   "execution_count": null,
   "id": "d4d702d9",
   "metadata": {},
   "outputs": [],
   "source": [
    "# Calculate strong magnetic field\n",
    "B_strong = dlB / (2 * C * np.array(lambda0)**2 * np.array(gbar))"
   ]
  },
  {
   "cell_type": "code",
   "execution_count": null,
   "id": "781c0ee5",
   "metadata": {},
   "outputs": [],
   "source": [
    "Bv = np.moveaxis(Bv, 0, -1)\n",
    "Bt = np.moveaxis(Bt, 0, -1)"
   ]
  },
  {
   "cell_type": "code",
   "execution_count": null,
   "id": "9453bedc",
   "metadata": {},
   "outputs": [],
   "source": [
    "# Constants\n",
    "kB = 1.3806488e-16 # [erg K-1]\n",
    "h = 6.6260755e-27  # [erg s]\n",
    "c = 2.99792458e10  # [cm · s−1]\n",
    "lambda0  = np.array([6301.51*1e-8, 6302.50*1e-8])   # Angstroms to cm\n",
    "l = np.mean(lambda0)\n",
    "Icont = I.data_n[:,:,:5].mean(axis=2) # I map in continuum\n",
    "Teff = 5780 # [K] T quiet sun average\n",
    "T = (1/Teff - kB*l/(h*c) * np.log(Icont))**-1\n",
    "M = 55.845 # Fe atomic mass, [g mol-1]\n",
    "av = 6.022e23 # avogadro, [mol-1]\n",
    "m =  M/av\n",
    "Xi = 0 # microturbulence, assumed 0\n",
    "\n",
    "# Rebecca Centeno, equation 3\n",
    "dlD = np.array([6301.5/c * np.sqrt(2*kB*T/m + Xi**2), 6302.5/c * np.sqrt(2*kB*T/m + Xi**2)]) # will be in units of lambda, in this case Angstrom\n",
    "\n",
    "dlD = np.moveaxis(dlD, 0, -1)\n",
    "np.shape(dlD)\n"
   ]
  },
  {
   "cell_type": "code",
   "execution_count": null,
   "id": "fd89963c",
   "metadata": {},
   "outputs": [],
   "source": [
    "# remove outliers\n",
    "B_strong[B_strong > 5000] = np.nan\n",
    "B_strong[B_strong < -5000] = np.nan"
   ]
  },
  {
   "cell_type": "code",
   "execution_count": null,
   "id": "a17ffd2f",
   "metadata": {},
   "outputs": [],
   "source": [
    "B = np.empty(Bv.shape)\n",
    "B[:,:,:] = np.nan\n",
    "B_mask = np.zeros(Bv.shape) * np.nan\n",
    "# gamma = np.zeros(derived.weak.Bv.shape) * np.nan\n",
    "# chi = np.zeros(derived.weak.Bv.shape) * np.nan\n",
    "\n",
    "for i in range(I.data.shape[0]):\n",
    "    for j in range(I.data.shape[1]):\n",
    "        for k in range(0,2):\n",
    "            if (dlB_binary[i,j,k] == 0) or np.isnan(dlB[i,j,k]) or (np.abs(dlB[i,j,k]) < np.abs(dlD[i,j,k])):\n",
    "                # If dlB could not be calculated, or if it is less than the doppler effect\n",
    "                B[i,j,k] = np.sqrt(Bv[i,j,k]**2 + Bt[i,j,k]**2)\n",
    "                B_mask[i,j,k] = 0\n",
    "                # chi[i,j,k] = derived.weak.chi[i,j,k]\n",
    "                # gamma[i,j,k] = derived.weak.gamma[i,j,k]\n",
    "            else:\n",
    "                # Use strong field approximation otherwise\n",
    "                B[i,j,k] = B_strong[i,j,k]\n",
    "                B_mask[i,j,k] = 1\n",
    "                # chi[i,j,k] = derived.strong.chi[i,j,k]\n",
    "                # gamma[i,j,k] = derived.strong.gamma[i,j,k]"
   ]
  },
  {
   "cell_type": "code",
   "execution_count": null,
   "id": "3ff7fdfd",
   "metadata": {},
   "outputs": [],
   "source": [
    "print(np.abs(dlD[300,300,0]))\n",
    "print(np.abs(dlB[300,300,0]))"
   ]
  },
  {
   "cell_type": "code",
   "execution_count": null,
   "id": "5b5228b9",
   "metadata": {},
   "outputs": [],
   "source": [
    "# Histogram of derived.strong.B[:,:,0]\n",
    "plt.figure()\n",
    "plt.hist(dlB[:,:,0].ravel(), bins=100, color='blue', alpha=0.7)\n",
    "plt.xlabel('Magnetic field strength (first line)')\n",
    "plt.ylabel('Count')\n",
    "plt.title('Histogram of dlB[:,:,0]')\n",
    "plt.show()"
   ]
  },
  {
   "cell_type": "code",
   "execution_count": null,
   "id": "66aa67fe",
   "metadata": {},
   "outputs": [],
   "source": [
    "# Histogram of derived.strong.B[:,:,0]\n",
    "plt.figure()\n",
    "plt.hist(B[:,:,0].ravel(), bins=100, color='blue', alpha=0.7)\n",
    "plt.xlabel('Magnetic field strength (first line)')\n",
    "plt.ylabel('Count')\n",
    "plt.title('Histogram of B[:,:,0]')\n",
    "plt.show()"
   ]
  },
  {
   "cell_type": "code",
   "execution_count": null,
   "id": "279439c1",
   "metadata": {},
   "outputs": [],
   "source": []
  },
  {
   "cell_type": "code",
   "execution_count": null,
   "id": "383f7c77",
   "metadata": {},
   "outputs": [],
   "source": [
    "plot_data(dlB[:,:,0], colourmap='berlin', title=r\"$\\Delta \\lambda _B$, 6301.5 $\\mathrm{\\AA}$, in $\\mathrm{\\AA}$\")"
   ]
  },
  {
   "cell_type": "code",
   "execution_count": null,
   "id": "e8945d26",
   "metadata": {},
   "outputs": [],
   "source": [
    "plot_data(B[:,:,0], colourmap='bwr', title=r\"B combined [G]\")"
   ]
  },
  {
   "cell_type": "code",
   "execution_count": null,
   "id": "83bc539d",
   "metadata": {},
   "outputs": [],
   "source": [
    "plot_data(dlB[:,:,0] > dlD[:,:,0], colourmap='grey')"
   ]
  }
 ],
 "metadata": {
  "kernelspec": {
   "display_name": "tfm",
   "language": "python",
   "name": "python3"
  },
  "language_info": {
   "codemirror_mode": {
    "name": "ipython",
    "version": 3
   },
   "file_extension": ".py",
   "mimetype": "text/x-python",
   "name": "python",
   "nbconvert_exporter": "python",
   "pygments_lexer": "ipython3",
   "version": "3.13.5"
  }
 },
 "nbformat": 4,
 "nbformat_minor": 5
}
