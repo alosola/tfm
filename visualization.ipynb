{
 "cells": [
  {
   "cell_type": "code",
   "execution_count": null,
   "id": "753b8cfc",
   "metadata": {},
   "outputs": [],
   "source": [
    "from pathlib import Path\n",
    "from scipy.signal import find_peaks\n",
    "import numpy as np\n",
    "import matplotlib.pyplot as plt\n",
    "import matplotlib.patches as patches\n",
    "from mpl_toolkits.axes_grid1 import make_axes_locatable\n",
    "import h5py\n",
    "import copy\n",
    "import pickle\n",
    "from astropy.visualization import make_lupton_rgb\n",
    "from functions.plot_data import plot_data\n",
    "import glob\n",
    "from PIL import Image\n",
    "from pathlib import Path\n",
    "import shutil\n",
    "\n",
    "# Project modules\n",
    "from lib.Stokes import Stokes\n",
    "from functions.plot_data import plot_data"
   ]
  },
  {
   "cell_type": "code",
   "execution_count": null,
   "id": "d7f6bddc",
   "metadata": {},
   "outputs": [],
   "source": [
    "# Open data files\n",
    "from functions.load_pickles import load_pickles\n",
    "stokes_list, _ = load_pickles(select=\"stokes\")"
   ]
  },
  {
   "cell_type": "code",
   "execution_count": null,
   "id": "dc4a98c6",
   "metadata": {},
   "outputs": [],
   "source": [
    "# %%capture\n",
    "# # Generate gifs of evolution through all frames\n",
    "\n",
    "# for param in stokes_list:\n",
    "#     # Make temp folder for frames\n",
    "#     Path(\"generated/temp\").mkdir(parents=True, exist_ok=True)\n",
    "\n",
    "#     # Generate frames\n",
    "#     for frame_index in range(18,29,2):\n",
    "#     # for frame_index in range(4):\n",
    "#         fig = stokes_list[param].plot_frame_n(frame_index)\n",
    "#         fig.savefig(f\"generated/temp/{frame_index:03}.png\", dpi=100)\n",
    "\n",
    "#     # Save frames to gif\n",
    "#     frames = [Image.open(image) for image in glob.glob('./generated/temp/*.png')]\n",
    "#     frame_one = frames[0]\n",
    "#     gifname = \"generated/\" + str(param) + \"_all_gif.gif\"\n",
    "#     print(\"Saved figure to file\", gifname)\n",
    "#     frame_one.save(gifname, format=\"GIF\", append_images=frames, save_all=True, duration=150, loop=0)\n",
    "\n",
    "#     # Remove temp folder\n",
    "#     shutil.rmtree(\"./generated/temp/\")"
   ]
  },
  {
   "cell_type": "code",
   "execution_count": null,
   "id": "7a9ff66b",
   "metadata": {},
   "outputs": [],
   "source": [
    "# %%capture\n",
    "# # Generate images of all frames\n",
    "\n",
    "# for param in stokes_list:\n",
    "#     # Make temp folder for frames\n",
    "#     Path(\"generated/\" + str(param) + \"temp\").mkdir(parents=True, exist_ok=True)\n",
    "\n",
    "#     # Generate frames\n",
    "#     for frame_index in range(stokes_list[param].size_wave):\n",
    "#     # for frame_index in range(4):\n",
    "#         fig = stokes_list[param].plot_frame_n(frame_index)\n",
    "#         fig.savefig(\"generated/\" + str(param) + \"temp/\" + str(frame_index) + \".png\", dpi=200)"
   ]
  },
  {
   "cell_type": "code",
   "execution_count": null,
   "id": "293aa0ae",
   "metadata": {},
   "outputs": [],
   "source": [
    "# Plot the spectrum with calibrated wavelengths, adding vertical lines to represent the four points selected for representation\n",
    "plt.figure(figsize=(8,5))\n",
    "plt.plot(stokes_list['I'].wave_array[:56], stokes_list['I'].mean_quiet[:56] / 10280.54, color='purple')\n",
    "plt.xlabel('Calibrated wavelength [' + r'$\\AA$' + ']')\n",
    "\n",
    "# Select 4 frames leading up to the absorption line (each frame represents rising through the photosphere)\n",
    "selected_frames = [17, 24, 27, 29]\n",
    "plt.vlines(stokes_list['I'].wave_array[selected_frames], stokes_list['I'].mean_quiet.min() / 10280.54, stokes_list['I'].mean_quiet.max() / 10280.54, colors='red', ls='--', lw=2,)\n",
    "plt.show()"
   ]
  },
  {
   "cell_type": "code",
   "execution_count": null,
   "id": "b4e02356",
   "metadata": {},
   "outputs": [],
   "source": [
    "# Plot original frames along spectral line\n",
    "for param in stokes_list:\n",
    "    fig, axs = plt.subplots(2, 2, figsize=(10,10))\n",
    "    for i in range(2):\n",
    "        for j in range(2):\n",
    "            img = axs[i, j].imshow(stokes_list[param].data[:,:,selected_frames[i*2 + j]], cmap='gray')\n",
    "            axs[i, j].set_title(f'{param} data at frame {selected_frames[i*2 + j]}')\n",
    "            axs[i, j].get_xaxis().set_visible(False)\n",
    "            axs[i, j].get_yaxis().set_visible(False)\n",
    "            divider = make_axes_locatable(axs[i, j])\n",
    "            cax = divider.append_axes(\"right\", size=\"5%\", pad=0.05)\n",
    "            fig.colorbar(img, cax=cax)\n",
    "\n",
    "\n",
    "    fig.tight_layout()\n",
    "    fig.savefig(\"generated/\" + str(param) + \"_4_frames_original.png\", dpi=150)\n",
    "    print(\"Saved figure to file\", \"generated/\" + str(param) + \"_4_frames_original.png\")"
   ]
  },
  {
   "cell_type": "code",
   "execution_count": null,
   "id": "017cfb04",
   "metadata": {},
   "outputs": [],
   "source": [
    "# Plot frames along spectral line\n",
    "for param in stokes_list:\n",
    "    fig, axs = plt.subplots(2, 2, figsize=(9,10))\n",
    "    for i in range(2):\n",
    "        for j in range(2):\n",
    "            img = axs[i, j].imshow(stokes_list[param].data_n[:,:,selected_frames[i*2 + j]], cmap='gray')\n",
    "            axs[i, j].set_title(f'{param} data at {stokes_list[param].wave_array[selected_frames[i*2 + j]]:.2f}')\n",
    "            axs[i, j].label_outer()\n",
    "            divider = make_axes_locatable(axs[i, j])\n",
    "            cax = divider.append_axes(\"right\", size=\"5%\", pad=0.05)\n",
    "            fig.colorbar(img, cax=cax)\n",
    "\n",
    "    for ax in axs.flat:\n",
    "        ax.label_outer()\n",
    "\n",
    "\n",
    "    fig.savefig(\"generated/\" + str(param) + \"_4_frames.png\", dpi=150)\n",
    "    print(\"Saved figure to file\", \"generated/\" + str(param) + \"_4_frames.png\")\n",
    "    fig.tight_layout()\n",
    "    fig.savefig(\"generated/\" + str(param) + \"_4_frames_norm.png\", dpi=150)\n",
    "    print(\"Saved figure to file\", \"generated/\" + str(param) + \"_4_frames_norm.png\")"
   ]
  },
  {
   "cell_type": "code",
   "execution_count": null,
   "id": "6ec3aba4",
   "metadata": {},
   "outputs": [],
   "source": [
    "# Plot frames along spectral line, for each Stokes parameter\n",
    "fig, axs = plt.subplots(4, 4, figsize=(17,20))\n",
    "i = 0\n",
    "for param in stokes_list:\n",
    "    for frame_index in range(4):\n",
    "        axs[i, frame_index].imshow(stokes_list[param].data_n[:,:,selected_frames[frame_index]], cmap='gray', vmin = stokes_list[param].data_n.min(), vmax = stokes_list[param].data_n.max())\n",
    "        axs[i, frame_index].set_title(f'{param} data at {stokes_list[param].wave_array[selected_frames[frame_index]]:.2f} ' + r'$\\AA$')\n",
    "\n",
    "    i = i+1\n",
    "\n",
    "fig.subplots_adjust(left=None, bottom=None, right=None, top=None, wspace=-0.3, hspace=0.1)\n",
    "\n",
    "for ax in axs.flat:\n",
    "    ax.label_outer()\n",
    "\n",
    "\n",
    "\n",
    "fig.savefig(\"generated/Stokes_4_frames.png\", dpi=150)\n",
    "print(\"Saved figure to file\", \"generated/Stokes_4_frames.png\")"
   ]
  }
 ],
 "metadata": {
  "kernelspec": {
   "display_name": "tfm",
   "language": "python",
   "name": "python3"
  },
  "language_info": {
   "codemirror_mode": {
    "name": "ipython",
    "version": 3
   },
   "file_extension": ".py",
   "mimetype": "text/x-python",
   "name": "python",
   "nbconvert_exporter": "python",
   "pygments_lexer": "ipython3",
   "version": "3.13.3"
  }
 },
 "nbformat": 4,
 "nbformat_minor": 5
}
