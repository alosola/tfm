{
 "cells": [
  {
   "cell_type": "code",
   "execution_count": null,
   "id": "a78cb78b",
   "metadata": {},
   "outputs": [],
   "source": [
    "from pathlib import Path\n",
    "from scipy.signal import find_peaks\n",
    "import numpy as np\n",
    "import matplotlib.pyplot as plt\n",
    "import matplotlib.patches as patches\n",
    "from mpl_toolkits.axes_grid1 import make_axes_locatable\n",
    "import h5py\n",
    "import copy\n",
    "import pickle\n",
    "\n",
    "# Project modules\n",
    "from lib.Stokes import Stokes\n",
    "from functions.plot_data import plot_data\n",
    "from functions.plot_angle_gradient import plot_angle_gradient"
   ]
  },
  {
   "cell_type": "code",
   "execution_count": null,
   "id": "1b87cf6d",
   "metadata": {},
   "outputs": [],
   "source": [
    "# Open data files\n",
    "from functions.load_pickles import load_pickles\n",
    "stokes_list, derived = load_pickles()"
   ]
  },
  {
   "cell_type": "code",
   "execution_count": null,
   "id": "15ae46e0",
   "metadata": {},
   "outputs": [],
   "source": [
    "# Extract each Stokes parameter into dictionary, to make it easier to work with\n",
    "I = stokes_list['I']\n",
    "Q = stokes_list['Q']\n",
    "U = stokes_list['U']\n",
    "V = stokes_list['V']"
   ]
  },
  {
   "cell_type": "code",
   "execution_count": null,
   "id": "46c06f40",
   "metadata": {},
   "outputs": [],
   "source": [
    "# Constants\n",
    "C = 4.67e-13 # TODO: where is this constant from? Sara's email (and PDF) 29/08\n",
    "lambda0  = [6301.51*1e-8, 6302.50*1e-8]   # Angstroms to cm\n",
    "gbar     = [1.669, 2.487] # Lozitsky"
   ]
  },
  {
   "cell_type": "code",
   "execution_count": null,
   "id": "b0159f5e",
   "metadata": {},
   "outputs": [],
   "source": [
    "def noise_level(a):\n",
    "    a = np.asanyarray(a)\n",
    "    sd = a.std(ddof=1)\n",
    "    return sd\n",
    "\n",
    "# Example spectrum noise level\n",
    "spectrum = copy.copy(V.data_n[300,300,:])\n",
    "sd = noise_level(spectrum[90:])\n",
    "print(f'Noise level = {sd}')\n",
    "plt.plot(V.wave_array, spectrum, linestyle='-')\n",
    "plt.hlines(sd, V.wave_array[0], V.wave_array[-1], color='red')"
   ]
  },
  {
   "cell_type": "code",
   "execution_count": null,
   "id": "182c94ce",
   "metadata": {},
   "outputs": [],
   "source": [
    "# Calculate delta lambda_B for each pixel, for each line\n",
    "\n",
    "dlB = np.zeros(I.data.shape)[:,:,:2].astype(float)\n",
    "dlB_binary = np.zeros(I.data.shape)[:,:,:2].astype(float)\n",
    "margin = 3.5\n",
    "verbose = 0\n",
    "\n",
    "for i in range(0, np.shape(V.data_n)[0]):\n",
    "\n",
    "    # Read out every 50 rows\n",
    "    if np.mod(i,50) == 0:\n",
    "        print(f'Row {i} of {np.shape(V.data_n)[0]}')\n",
    "\n",
    "    for j in range(0, np.shape(V.data_n)[1]):\n",
    "        if (verbose):\n",
    "            print(f'For pixel {i},{j}:')\n",
    "\n",
    "        # Initialize variables\n",
    "        peaks_p = [0, 0]\n",
    "        peaks_n = [0, 0]\n",
    "\n",
    "        # Get the spectrum for this pixel\n",
    "        spectrum = copy.copy(V.data_n[i,j,:])\n",
    "\n",
    "        # Calculate noise level for spectrum region outside the spectral lines\n",
    "        sd = noise_level(spectrum[90:])\n",
    "        if (verbose):\n",
    "            print(f'Noise level = {sd}')\n",
    "\n",
    "        # First line\n",
    "        peaks_p[0] = int(np.argmax(spectrum[:60])) if spectrum[:60].max() > margin*sd else None\n",
    "        peaks_n[0] = int(np.argmin(spectrum[:60])) if spectrum[:60].min() < -margin*sd else None\n",
    "\n",
    "        # # Second line\n",
    "        peaks_p[1] = 60 + int(np.argmax(spectrum[60:])) if spectrum[60:].max() > margin*sd else None\n",
    "        peaks_n[1] = 60 + int(np.argmin(spectrum[60:])) if spectrum[60:].min() < -margin*sd else None\n",
    "\n",
    "        if (verbose):\n",
    "            print(f'Peak positions: {peaks_p}, {peaks_n}')\n",
    "\n",
    "        # If two peaks have been found for the first line, calculate dlB\n",
    "        if peaks_p[0] is not None and peaks_n[0] is not None:\n",
    "            dlB_binary[i, j, 0] = 1\n",
    "            dlB[i, j, 0] = np.array(V.wave_array)[peaks_p[0]] - np.array(V.wave_array)[peaks_n[0]]\n",
    "\n",
    "            if (verbose):\n",
    "                plt.figure()\n",
    "                plt.vlines(V.wave_array[peaks_n[0]], ymin=np.min(spectrum), ymax=np.max(spectrum), color='g', linestyle='--')\n",
    "                plt.vlines(V.wave_array[peaks_p[0]], ymin=np.min(spectrum), ymax=np.max(spectrum), color='purple', linestyle='--')\n",
    "\n",
    "                print(f'Peak 1 positive: {V.wave_array[peaks_p[0]]}')\n",
    "                print(f'Peak 1 negative: {V.wave_array[peaks_n[0]]}')\n",
    "                print(np.array(V.wave_array)[peaks_p[0]] - np.array(V.wave_array)[peaks_n[0]])\n",
    "                print(f'Distance: {dlB[i, j, 0]:.6f} Angstrom')\n",
    "        else:\n",
    "            dlB[i, j, 0] = np.nan\n",
    "\n",
    "\n",
    "        # If two peaks have been found for the second line, calculate dlB\n",
    "        if peaks_p[1] is not None and peaks_n[1] is not None:\n",
    "            dlB_binary[i, j, 1] = 1\n",
    "            dlB[i, j, 1] = np.array(V.wave_array)[peaks_p[1]] - np.array(V.wave_array)[peaks_n[1]]\n",
    "\n",
    "            if (verbose):\n",
    "                plt.figure()\n",
    "                plt.vlines(V.wave_array[peaks_n[1]], ymin=np.min(spectrum), ymax=np.max(spectrum), color='g', linestyle='--')\n",
    "                plt.vlines(V.wave_array[peaks_p[1]], ymin=np.min(spectrum), ymax=np.max(spectrum), color='purple', linestyle='--')\n",
    "\n",
    "                print(f'Peak 2 positive: {V.wave_array[peaks_p[1]]}')\n",
    "                print(f'Peak 2 negative: {V.wave_array[peaks_n[1]]}')\n",
    "                print(np.array(V.wave_array)[peaks_p[1]] - np.array(V.wave_array)[peaks_n[1]])\n",
    "                print(f'Distance: {dlB[i, j, 1]:.6f} Angstrom')\n",
    "        else:\n",
    "            dlB[i, j, 1] = np.nan\n",
    "\n",
    "        if (verbose):\n",
    "            plt.hlines(margin*sd, V.wave_array[0], V.wave_array[-1], color='red', linestyle='--')\n",
    "            plt.hlines(-margin*sd, V.wave_array[0], V.wave_array[-1], color='red', linestyle='--')\n",
    "            plt.plot(V.wave_array, spectrum, linestyle='-', color='black')"
   ]
  },
  {
   "cell_type": "code",
   "execution_count": null,
   "id": "86c6e6be",
   "metadata": {},
   "outputs": [],
   "source": [
    "# Get absolute value of dlB TODO: confirm this is correct\n",
    "dlB = np.abs(dlB)"
   ]
  },
  {
   "cell_type": "code",
   "execution_count": null,
   "id": "3b2352d7",
   "metadata": {},
   "outputs": [],
   "source": [
    "plot_data(dlB_binary[:,:,0], title=r\"Points where the algorithm is able to detect $\\Delta \\lambda _B$,at 6031.5\")\n",
    "plot_data(dlB_binary[:,:,1], title=r\"Points where the algorithm is able to detect $\\Delta \\lambda _B$,at 6032.5\")"
   ]
  },
  {
   "cell_type": "code",
   "execution_count": null,
   "id": "23b1a32a",
   "metadata": {},
   "outputs": [],
   "source": [
    "plot_data(dlB[:,:,0], colourmap='magma', norm='log', title=r\"$\\Delta \\lambda _B$, in $\\AA$, at 6031.5\")\n",
    "plot_data(dlB[:,:,1], colourmap='magma', norm='log', title=r\"$\\Delta \\lambda _B$, in $\\AA$, at 6032.5\")"
   ]
  },
  {
   "cell_type": "code",
   "execution_count": null,
   "id": "4548ba56",
   "metadata": {},
   "outputs": [],
   "source": [
    "# Calculate strong magnetic field\n",
    "B = dlB / (2 * C * np.array(lambda0)**2 * np.array(gbar))"
   ]
  },
  {
   "cell_type": "code",
   "execution_count": null,
   "id": "d7577a79",
   "metadata": {},
   "outputs": [],
   "source": [
    "plot_data(B[:,:,0], colourmap='magma', norm='log', title='Strong magnetic field B at 6301.5')\n",
    "plot_data(B[:,:,1], colourmap='magma', norm='log', title='Strong magnetic field B at 6302.5' )"
   ]
  },
  {
   "cell_type": "code",
   "execution_count": null,
   "id": "5f17a22b",
   "metadata": {},
   "outputs": [],
   "source": [
    "# Define function to sum data along the third axis (sum all wavelengths)\n",
    "def sw(data):\n",
    "    return np.sum(data, axis=2)"
   ]
  },
  {
   "cell_type": "code",
   "execution_count": null,
   "id": "6c41b2a4",
   "metadata": {},
   "outputs": [],
   "source": [
    "# Calculate inclination, per spectral line\n",
    "\n",
    "line_cuttoff = 55 # index at which we divide the data, between the spectral lines\n",
    "gamma_1 = np.arctan2(sw(Q.data_n[:,:,:line_cuttoff] + U.data_n[:,:,:line_cuttoff])**(1/4), sw(V.data_n[:,:,:line_cuttoff]))\n",
    "gamma_2 = np.arctan2(sw(Q.data_n[:,:,line_cuttoff:] + U.data_n[:,:,line_cuttoff:])**(1/4), sw(V.data_n[:,:,line_cuttoff:]))"
   ]
  },
  {
   "cell_type": "code",
   "execution_count": null,
   "id": "d24435bc",
   "metadata": {},
   "outputs": [],
   "source": [
    "plot_angle_gradient(gamma_1, title='Inclination, first line')\n",
    "plot_angle_gradient(gamma_2, title='Inclination, second line')"
   ]
  },
  {
   "cell_type": "code",
   "execution_count": null,
   "id": "c52009d4",
   "metadata": {},
   "outputs": [],
   "source": [
    "# Calculate azimuth, per spectral line\n",
    "\n",
    "chi_1 = np.arctan2(sw(U.data_n[:,:,:line_cuttoff]), sw(Q.data_n[:,:,:line_cuttoff])) / 2\n",
    "chi_2 = np.arctan2(sw(U.data_n[:,:,line_cuttoff:]), sw(Q.data_n[:,:,line_cuttoff:])) / 2"
   ]
  },
  {
   "cell_type": "code",
   "execution_count": null,
   "id": "093bb286",
   "metadata": {},
   "outputs": [],
   "source": [
    "plot_angle_gradient(chi_1, title='Azimuth, first line')\n",
    "plot_angle_gradient(chi_2, title='Azimuth, second line')"
   ]
  },
  {
   "cell_type": "code",
   "execution_count": null,
   "id": "f4984f12",
   "metadata": {},
   "outputs": [
    {
     "ename": "",
     "evalue": "",
     "output_type": "error",
     "traceback": [
      "\u001b[1;31mThe Kernel crashed while executing code in the current cell or a previous cell. \n",
      "\u001b[1;31mPlease review the code in the cell(s) to identify a possible cause of the failure. \n",
      "\u001b[1;31mClick <a href='https://aka.ms/vscodeJupyterKernelCrash'>here</a> for more info. \n",
      "\u001b[1;31mView Jupyter <a href='command:jupyter.viewOutput'>log</a> for further details."
     ]
    }
   ],
   "source": [
    "chi = np.stack([chi_1, chi_2], axis=-1)\n",
    "gamma = np.stack([gamma_1, gamma_2], axis=-1)\n",
    "\n",
    "derived.strong_field(B, gamma, gamma)\n",
    "derived.save_pickle()"
   ]
  }
 ],
 "metadata": {
  "kernelspec": {
   "display_name": "tfm",
   "language": "python",
   "name": "python3"
  },
  "language_info": {
   "codemirror_mode": {
    "name": "ipython",
    "version": 3
   },
   "file_extension": ".py",
   "mimetype": "text/x-python",
   "name": "python",
   "nbconvert_exporter": "python",
   "pygments_lexer": "ipython3",
   "version": "3.13.5"
  }
 },
 "nbformat": 4,
 "nbformat_minor": 5
}
