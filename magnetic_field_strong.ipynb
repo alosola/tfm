{
 "cells": [
  {
   "cell_type": "code",
   "execution_count": null,
   "id": "a78cb78b",
   "metadata": {},
   "outputs": [],
   "source": [
    "from pathlib import Path\n",
    "from scipy.signal import find_peaks\n",
    "import numpy as np\n",
    "import matplotlib.pyplot as plt\n",
    "import matplotlib.patches as patches\n",
    "from mpl_toolkits.axes_grid1 import make_axes_locatable\n",
    "import h5py\n",
    "import copy\n",
    "import pickle\n",
    "\n",
    "# Project modules\n",
    "from lib.Stokes import Stokes\n",
    "from functions.plot_data import plot_data\n",
    "from functions.plot_angle_gradient import plot_angle_gradient"
   ]
  },
  {
   "cell_type": "code",
   "execution_count": null,
   "id": "1b87cf6d",
   "metadata": {},
   "outputs": [],
   "source": [
    "# Open data files\n",
    "from functions.load_pickles import load_pickles\n",
    "stokes_list, derived = load_pickles()"
   ]
  },
  {
   "cell_type": "code",
   "execution_count": null,
   "id": "15ae46e0",
   "metadata": {},
   "outputs": [],
   "source": [
    "# Extract each Stokes parameter into dictionary, to make it easier to work with\n",
    "I = stokes_list['I']\n",
    "Q = stokes_list['Q']\n",
    "U = stokes_list['U']\n",
    "V = stokes_list['V']"
   ]
  },
  {
   "cell_type": "code",
   "execution_count": null,
   "id": "46c06f40",
   "metadata": {},
   "outputs": [],
   "source": [
    "# Constants\n",
    "kB = 1.3806488e-16 # [erg K-1]\n",
    "h = 6.6260755e-27  # [erg s]\n",
    "c = 2.99792458e10  # [cm · s−1]\n",
    "lambda0  = [6301.51*1e-8, 6302.50*1e-8]   # Angstroms to cm\n",
    "Icont = 0.915525015 # 9235.01953125 # value of I continuum in umbra\n",
    "Teff = 5780 # [K] T quiet sun average"
   ]
  },
  {
   "cell_type": "code",
   "execution_count": null,
   "id": "f347fc6c",
   "metadata": {},
   "outputs": [],
   "source": [
    "T = [Teff - (kB*lambda0[0]/h/c * np.log(Icont))**-1,\n",
    "     Teff - (kB*lambda0[1]/h/c * np.log(Icont))**-1]\n",
    "print(f'Temperature in each line: T1 = {T[0]}, T2 = {T[1]}')"
   ]
  },
  {
   "cell_type": "code",
   "execution_count": null,
   "id": "6d9f7aa9",
   "metadata": {},
   "outputs": [],
   "source": [
    "M = 55.845 # Fe atomic mass, g/mol\n",
    "R = 8.3145e7 # ideal gas constant, erg /mol /K\n",
    "\n",
    "dLD = (2*R*T[0]/M)**2 * lambda0[0]/c\n",
    "print(f'Delta LambdaD = {dLD}')"
   ]
  }
 ],
 "metadata": {
  "kernelspec": {
   "display_name": "tfm",
   "language": "python",
   "name": "python3"
  },
  "language_info": {
   "codemirror_mode": {
    "name": "ipython",
    "version": 3
   },
   "file_extension": ".py",
   "mimetype": "text/x-python",
   "name": "python",
   "nbconvert_exporter": "python",
   "pygments_lexer": "ipython3",
   "version": "3.13.5"
  }
 },
 "nbformat": 4,
 "nbformat_minor": 5
}
