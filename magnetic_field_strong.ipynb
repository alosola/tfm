{
 "cells": [
  {
   "cell_type": "code",
   "execution_count": null,
   "id": "a78cb78b",
   "metadata": {},
   "outputs": [],
   "source": [
    "from pathlib import Path\n",
    "from scipy.signal import find_peaks\n",
    "import numpy as np\n",
    "import matplotlib.pyplot as plt\n",
    "import matplotlib.patches as patches\n",
    "from mpl_toolkits.axes_grid1 import make_axes_locatable\n",
    "import h5py\n",
    "import copy\n",
    "import pickle\n",
    "\n",
    "# Project modules\n",
    "from lib.Stokes import Stokes\n",
    "from functions.plot_data import plot_data\n",
    "from functions.plot_angle_gradient import plot_angle_gradient"
   ]
  },
  {
   "cell_type": "code",
   "execution_count": null,
   "id": "1b87cf6d",
   "metadata": {},
   "outputs": [],
   "source": [
    "# Open data files\n",
    "from functions.load_pickles import load_pickles\n",
    "stokes_list, derived = load_pickles()"
   ]
  },
  {
   "cell_type": "code",
   "execution_count": null,
   "id": "15ae46e0",
   "metadata": {},
   "outputs": [],
   "source": [
    "# Extract each Stokes parameter into dictionary, to make it easier to work with\n",
    "I = stokes_list['I']\n",
    "Q = stokes_list['Q']\n",
    "U = stokes_list['U']\n",
    "V = stokes_list['V']"
   ]
  },
  {
   "cell_type": "code",
   "execution_count": null,
   "id": "46c06f40",
   "metadata": {},
   "outputs": [],
   "source": [
    "# Constants\n",
    "C = 4.67e-13 # TODO: where is this constant from? Sara's email (and PDF) 29/08\n",
    "lambda0  = [6301.51*1e-8, 6302.50*1e-8]   # Angstroms to cm\n",
    "gbar     = [1.669, 2.487] # Lozitsky"
   ]
  },
  {
   "cell_type": "code",
   "execution_count": null,
   "id": "b0159f5e",
   "metadata": {},
   "outputs": [],
   "source": [
    "def noise_level(a):\n",
    "    a = np.asanyarray(a)\n",
    "    sd = a.std(ddof=1)\n",
    "    return sd\n",
    "\n",
    "# Example spectrum noise level\n",
    "spectrum = copy.copy(V.data_n[300,300,:])\n",
    "sd = noise_level(spectrum[90:])\n",
    "print(f'Noise level = {sd}')\n",
    "plt.plot(V.wave_array, spectrum, linestyle='-')\n",
    "plt.hlines(sd, V.wave_array[0], V.wave_array[-1], color='red')"
   ]
  },
  {
   "cell_type": "code",
   "execution_count": null,
   "id": "882749bb",
   "metadata": {},
   "outputs": [],
   "source": [
    "dlB = np.zeros(I.data.shape)[:,:,:2].astype(float)\n",
    "margin = 3.5\n",
    "\n",
    "for i in range(400,403):\n",
    "    for j in range(1,2):\n",
    "        print(f'For pixel {i},{j}:')\n",
    "        peaks_p = [0, 0]\n",
    "        peaks_n = [0, 0]\n",
    "\n",
    "        spectrum = copy.copy(V.data_n[i,j,:])\n",
    "\n",
    "        sd = noise_level(spectrum[90:]) # Calculate noise level for spectrum region outside the spectral lines\n",
    "        print(f'Noise level = {sd}')\n",
    "\n",
    "        # First line\n",
    "        peaks_p[0] = int(np.argmax(spectrum[:60])) if spectrum[:60].max() > margin*sd else None\n",
    "        peaks_n[0] = int(np.argmin(spectrum[:60])) if spectrum[:60].min() < -margin*sd else None\n",
    "\n",
    "        # # Second line\n",
    "        peaks_p[1] = 60 + int(np.argmax(spectrum[60:])) if spectrum[60:].max() > margin*sd else None\n",
    "        peaks_n[1] = 60 + int(np.argmin(spectrum[60:])) if spectrum[60:].min() < -margin*sd else None\n",
    "\n",
    "        print(f'Peak positions: {peaks_p}, {peaks_n}')\n",
    "\n",
    "\n",
    "        plt.figure()\n",
    "        if all(x is not None for x in peaks_p) and all(x is not None for x in peaks_n):\n",
    "            plt.vlines(V.wave_array[peaks_n], ymin=np.min(spectrum), ymax=np.max(spectrum), color='g', linestyle='--')\n",
    "            plt.vlines(V.wave_array[peaks_p], ymin=np.min(spectrum), ymax=np.max(spectrum), color='purple', linestyle='--')\n",
    "\n",
    "            print(f'Peaks positive: {V.wave_array[peaks_p]}')\n",
    "            print(f'Peaks negative: {V.wave_array[peaks_n]}')\n",
    "            print(np.array(V.wave_array)[peaks_p] - np.array(V.wave_array)[peaks_n])\n",
    "            a = (np.array(V.wave_array)[peaks_p] - np.array(V.wave_array)[peaks_n])\n",
    "            dlB[i, j, :] = np.array(V.wave_array)[peaks_p] - np.array(V.wave_array)[peaks_n]\n",
    "            print(f'Distances: {dlB[i, j, 0]:.6f}, {dlB[i, j, 1]:.6f} Angstrom')\n",
    "\n",
    "        plt.hlines(margin*sd, V.wave_array[0], V.wave_array[-1], color='red', linestyle='--')\n",
    "        plt.hlines(-margin*sd, V.wave_array[0], V.wave_array[-1], color='red', linestyle='--')\n",
    "        plt.plot(V.wave_array, spectrum, linestyle='-', color='black')\n",
    "\n",
    "\n",
    "\n",
    "        # else:\n",
    "            # print(f'Found {np.size(peaks_p)} positive peaks and {np.size(peaks_n)} negative peaks. Not calculating distances.')"
   ]
  },
  {
   "cell_type": "code",
   "execution_count": null,
   "id": "2d02c574",
   "metadata": {},
   "outputs": [],
   "source": [
    "(I.size_y)"
   ]
  },
  {
   "cell_type": "code",
   "execution_count": null,
   "id": "23b1a32a",
   "metadata": {},
   "outputs": [],
   "source": [
    "plot_data(dlB[:,:,1])"
   ]
  },
  {
   "cell_type": "code",
   "execution_count": null,
   "id": "59849ec0",
   "metadata": {},
   "outputs": [],
   "source": [
    "I.data.shape"
   ]
  }
 ],
 "metadata": {
  "kernelspec": {
   "display_name": "tfm",
   "language": "python",
   "name": "python3"
  },
  "language_info": {
   "codemirror_mode": {
    "name": "ipython",
    "version": 3
   },
   "file_extension": ".py",
   "mimetype": "text/x-python",
   "name": "python",
   "nbconvert_exporter": "python",
   "pygments_lexer": "ipython3",
   "version": "3.13.5"
  }
 },
 "nbformat": 4,
 "nbformat_minor": 5
}
