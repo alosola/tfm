{
 "cells": [
  {
   "cell_type": "code",
   "execution_count": null,
   "id": "a78cb78b",
   "metadata": {},
   "outputs": [],
   "source": [
    "from pathlib import Path\n",
    "from scipy.signal import find_peaks\n",
    "import numpy as np\n",
    "import matplotlib.pyplot as plt\n",
    "import matplotlib.patches as patches\n",
    "from mpl_toolkits.axes_grid1 import make_axes_locatable\n",
    "import h5py\n",
    "import copy\n",
    "import pickle\n",
    "\n",
    "# Project modules\n",
    "from lib.Stokes import Stokes\n",
    "from functions.plot_data import plot_data\n",
    "from functions.plot_angle_gradient import plot_angle_gradient"
   ]
  },
  {
   "cell_type": "code",
   "execution_count": null,
   "id": "1b87cf6d",
   "metadata": {},
   "outputs": [],
   "source": [
    "# Open data files\n",
    "from functions.load_pickles import load_pickles\n",
    "stokes_list, derived = load_pickles()"
   ]
  },
  {
   "cell_type": "code",
   "execution_count": null,
   "id": "15ae46e0",
   "metadata": {},
   "outputs": [],
   "source": [
    "# Extract each Stokes parameter into dictionary, to make it easier to work with\n",
    "I = stokes_list['I']\n",
    "Q = stokes_list['Q']\n",
    "U = stokes_list['U']\n",
    "V = stokes_list['V']"
   ]
  },
  {
   "cell_type": "code",
   "execution_count": null,
   "id": "46c06f40",
   "metadata": {},
   "outputs": [],
   "source": [
    "# Constants\n",
    "C = 4.67e-13 # TODO: where is this constant from? Sara's email (and PDF) 29/08\n",
    "lambda0  = [6301.51*1e-8, 6302.50*1e-8]   # Angstroms to cm\n",
    "gbar     = [1.669, 2.487] # Lozitsky"
   ]
  },
  {
   "cell_type": "code",
   "execution_count": null,
   "id": "3fac4fcb",
   "metadata": {},
   "outputs": [],
   "source": [
    "dlB = np.zeros(I.data.shape)[:,:,:2]\n",
    "finetune = np.zeros(I.data.shape)[:,:,0] + 0.9\n",
    "\n",
    "for i in range(I.size_x):\n",
    "    for j in range(I.size_y):\n",
    "\n",
    "        spectrum = copy.copy(V.data_n[i,j,:])\n",
    "        peaks_p, _ = find_peaks(spectrum, height=finetune[i,j]*np.max(spectrum))\n",
    "        peaks_n, _ = find_peaks(-spectrum, height=-finetune[i,j]*np.min(spectrum))\n",
    "        # print(f'Peaks positive: {V.wave_array[peaks_p]}')\n",
    "        # print(f'Peaks negative: {V.wave_array[peaks_n]}')\n",
    "\n",
    "        if (np.size(peaks_p) == 2) and (np.size(peaks_n) == 2):\n",
    "            dlB[i,j,:] = V.wave_array[peaks_n] - V.wave_array[peaks_p]\n",
    "            # print(f'Distances: {dlB[j,i,:]} Angstrom')\n",
    "\n",
    "            # plt.cla()\n",
    "            # plt.plot(V.wave_array, V.data_n[j,i,:], linestyle='-')\n",
    "            # plt.vlines(V.wave_array[peaks_p], ymin=np.min(spectrum), ymax=np.max(spectrum), color='r')\n",
    "            # plt.vlines(V.wave_array[peaks_n], ymin=np.min(spectrum), ymax=np.max(spectrum), color='g')\n",
    "\n",
    "        # else:\n",
    "            # print(f'Found {np.size(peaks_p)} positive peaks and {np.size(peaks_n)} negative peaks. Not calculating distances.')"
   ]
  },
  {
   "cell_type": "code",
   "execution_count": null,
   "id": "2d02c574",
   "metadata": {},
   "outputs": [],
   "source": [
    "(I.size_y)"
   ]
  },
  {
   "cell_type": "code",
   "execution_count": null,
   "id": "23b1a32a",
   "metadata": {},
   "outputs": [],
   "source": [
    "plot_data(dlB[:,:,1])"
   ]
  },
  {
   "cell_type": "code",
   "execution_count": null,
   "id": "59849ec0",
   "metadata": {},
   "outputs": [],
   "source": [
    "I.data.shape"
   ]
  }
 ],
 "metadata": {
  "kernelspec": {
   "display_name": "tfm",
   "language": "python",
   "name": "python3"
  },
  "language_info": {
   "codemirror_mode": {
    "name": "ipython",
    "version": 3
   },
   "file_extension": ".py",
   "mimetype": "text/x-python",
   "name": "python",
   "nbconvert_exporter": "python",
   "pygments_lexer": "ipython3",
   "version": "3.13.5"
  }
 },
 "nbformat": 4,
 "nbformat_minor": 5
}
