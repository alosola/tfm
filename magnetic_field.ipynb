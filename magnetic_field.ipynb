{
 "cells": [
  {
   "cell_type": "code",
   "execution_count": null,
   "id": "753b8cfc",
   "metadata": {},
   "outputs": [],
   "source": [
    "from pathlib import Path\n",
    "from scipy.signal import find_peaks\n",
    "import numpy as np\n",
    "import matplotlib.pyplot as plt\n",
    "import matplotlib.patches as patches\n",
    "from mpl_toolkits.axes_grid1 import make_axes_locatable\n",
    "import h5py\n",
    "import copy\n",
    "import pickle\n",
    "\n",
    "# Project modules\n",
    "from lib.Stokes import Stokes\n",
    "from functions.plot_data import plot_data"
   ]
  },
  {
   "cell_type": "code",
   "execution_count": null,
   "id": "d7f6bddc",
   "metadata": {},
   "outputs": [],
   "source": [
    "# Check that the Stokes object file exists\n",
    "stokes_filename = \"generated/objects/stokes.pickle\"\n",
    "my_file = Path(stokes_filename)\n",
    "if not my_file.is_file():\n",
    "    print(\"Stokes object does not exists (\", stokes_filename,\"), please run file init_data.py first\")\n",
    "\n",
    "# Load the objects from the files\n",
    "print(\"Loading Stokes data from file\", stokes_filename)\n",
    "stokes_list = pickle.load(open(stokes_filename, \"rb\"))"
   ]
  },
  {
   "cell_type": "code",
   "execution_count": null,
   "id": "865eff58",
   "metadata": {},
   "outputs": [],
   "source": [
    "# Calculate first derivative\n",
    "stokes_list['I'].calc_first_derivative()"
   ]
  },
  {
   "cell_type": "code",
   "execution_count": null,
   "id": "f49b2009",
   "metadata": {},
   "outputs": [],
   "source": [
    "# Calculate second derivative\n",
    "stokes_list['I'].calc_second_derivative()"
   ]
  },
  {
   "cell_type": "code",
   "execution_count": null,
   "id": "2dfc95fc",
   "metadata": {},
   "outputs": [],
   "source": [
    "# Plot derived Intensity\n",
    "fig = stokes_list['I'].plot_frame_d(7)\n",
    "fig = stokes_list['I'].plot_frame_d(25)"
   ]
  },
  {
   "cell_type": "code",
   "execution_count": null,
   "id": "037d3ca6",
   "metadata": {},
   "outputs": [],
   "source": [
    "# Plot derived Intensity\n",
    "fig = stokes_list['I'].plot_frame_dd(7)\n",
    "fig = stokes_list['I'].plot_frame_dd(25)"
   ]
  },
  {
   "cell_type": "code",
   "execution_count": null,
   "id": "e6ac413a",
   "metadata": {},
   "outputs": [],
   "source": [
    "plt.plot(stokes_list['I'].data_n[450,450,:])\n",
    "plt.grid()"
   ]
  },
  {
   "cell_type": "code",
   "execution_count": null,
   "id": "28734fb2",
   "metadata": {},
   "outputs": [],
   "source": [
    "plt.plot(stokes_list['I'].data_d[450,450,:],color='purple')\n",
    "plt.grid()"
   ]
  },
  {
   "cell_type": "code",
   "execution_count": null,
   "id": "491d851f",
   "metadata": {},
   "outputs": [],
   "source": [
    "plt.plot(stokes_list['I'].data_dd[450,450,:],color='red')\n",
    "plt.grid()"
   ]
  },
  {
   "cell_type": "code",
   "execution_count": null,
   "id": "67bbc33e",
   "metadata": {},
   "outputs": [],
   "source": [
    "# # Plot derived Intensity\n",
    "# for i in range(117):\n",
    "#     fig = stokes_list['I'].plot_frame_dd(i)"
   ]
  },
  {
   "cell_type": "code",
   "execution_count": null,
   "id": "a84de6d8",
   "metadata": {},
   "outputs": [],
   "source": [
    "# Calculate the vertical (longitudinal) component\n",
    "C1 = 1\n",
    "f = 1\n",
    "Bll = -np.sum(stokes_list['V'].data_n * stokes_list['I'].data_d, 2) / (C1 * f * np.sum(stokes_list['I'].data_d*stokes_list['I'].data_d, 2))"
   ]
  },
  {
   "cell_type": "code",
   "execution_count": null,
   "id": "3db20dd6",
   "metadata": {},
   "outputs": [],
   "source": [
    "plot_data(Bll, f'B longitudinal')"
   ]
  },
  {
   "cell_type": "code",
   "execution_count": null,
   "id": "be5d650f",
   "metadata": {},
   "outputs": [],
   "source": [
    "# Calculate the horizontal (transverse) component\n",
    "C2 = 1 #TODO\n",
    "L = np.sqrt(stokes_list['Q'].data_n**2 + stokes_list['U'].data_n**2)\n",
    "Bt = np.sum(L * np.abs(stokes_list['I'].data_dd), 2) / (C2 * f * np.sum(np.abs(stokes_list['I'].data_dd), 2)*2)\n",
    "Bt = np.sqrt(Bt)"
   ]
  },
  {
   "cell_type": "code",
   "execution_count": null,
   "id": "19f90f5a",
   "metadata": {},
   "outputs": [],
   "source": [
    "plot_data(-Bt, f'B transverse')"
   ]
  },
  {
   "cell_type": "code",
   "execution_count": null,
   "id": "15d0b059",
   "metadata": {},
   "outputs": [],
   "source": [
    "# Compute the angle\n",
    "tan2chi = np.sum(stokes_list['U'].data_n * stokes_list['I'].data_dd, 2) / np.sum(stokes_list['Q'].data_n * stokes_list['I'].data_dd, 2) \n",
    "chi = np.arctan(tan2chi)/2"
   ]
  },
  {
   "cell_type": "code",
   "execution_count": null,
   "id": "17014cb1",
   "metadata": {},
   "outputs": [],
   "source": [
    "plot_data(chi, 'Chi') #TODO: this plot is not number of counts\n"
   ]
  },
  {
   "cell_type": "code",
   "execution_count": null,
   "id": "27429311",
   "metadata": {},
   "outputs": [],
   "source": [
    "chi2 = (np.arctan2(np.sum(stokes_list['U'].data_n * stokes_list['I'].data_dd, 2), np.sum(stokes_list['Q'].data_n * stokes_list['I'].data_dd, 2))) / 2"
   ]
  },
  {
   "cell_type": "code",
   "execution_count": null,
   "id": "17ced6d9",
   "metadata": {},
   "outputs": [],
   "source": [
    "# Plot one frame of data\n",
    "fig, ax = plt.subplots(ncols=1, nrows=1, figsize=(8, 8))\n",
    "ax.set_xlabel('X axis (array index)')\n",
    "ax.set_ylabel('Y axis (array index)')\n",
    "ax.set_title('Chi')\n",
    "\n",
    "img = ax.imshow(np.rad2deg(chi2), cmap='twilight')\n",
    "    \n",
    "divider = make_axes_locatable(ax)\n",
    "cax = divider.append_axes(\"right\", size=\"5%\", pad=0.05)\n",
    "fig.colorbar(img, cax=cax, label='Angle [degrees]')\n",
    "\n",
    "\n",
    "#TODO: why is the result only to +/- 90 degrees? /2 factor"
   ]
  },
  {
   "cell_type": "code",
   "execution_count": null,
   "id": "c55fc9b4",
   "metadata": {},
   "outputs": [],
   "source": [
    "# Calculate inclination angle\n",
    "lambda0 = 1 #TODO\n",
    "gbar = 1 #TODO\n",
    "Gbar = 1 #TODO\n",
    "temp = np.sum(np.abs(stokes_list['I'].wave_array - lambda0) * L * stokes_list['V'].data_n**2 * stokes_list['I'].data_d, 2)\n",
    "tan2gamma = 4/3 * gbar**2 / Gbar * temp / np.sum(np.abs(stokes_list['V'].data_n)**4)\n",
    "gamma = np.arctan(np.sqrt(tan2gamma))"
   ]
  },
  {
   "cell_type": "code",
   "execution_count": null,
   "id": "8caec0f0",
   "metadata": {},
   "outputs": [],
   "source": [
    "# Plot one frame of data\n",
    "fig, ax = plt.subplots(ncols=1, nrows=1, figsize=(8, 8))\n",
    "ax.set_xlabel('X axis (array index)')\n",
    "ax.set_ylabel('Y axis (array index)')\n",
    "ax.set_title('Chi')\n",
    "\n",
    "img = ax.imshow(np.rad2deg(gamma), cmap='twilight')\n",
    "    \n",
    "divider = make_axes_locatable(ax)\n",
    "cax = divider.append_axes(\"right\", size=\"5%\", pad=0.05)\n",
    "fig.colorbar(img, cax=cax, label='Angle [degrees]')"
   ]
  },
  {
   "cell_type": "code",
   "execution_count": null,
   "id": "cbd6c3cd",
   "metadata": {},
   "outputs": [],
   "source": [
    "gamma = np.cotan(tan2gamma)"
   ]
  }
 ],
 "metadata": {
  "kernelspec": {
   "display_name": "tfm",
   "language": "python",
   "name": "python3"
  },
  "language_info": {
   "codemirror_mode": {
    "name": "ipython",
    "version": 3
   },
   "file_extension": ".py",
   "mimetype": "text/x-python",
   "name": "python",
   "nbconvert_exporter": "python",
   "pygments_lexer": "ipython3",
   "version": "3.13.3"
  }
 },
 "nbformat": 4,
 "nbformat_minor": 5
}
