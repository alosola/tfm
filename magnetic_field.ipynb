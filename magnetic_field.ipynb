{
 "cells": [
  {
   "cell_type": "code",
   "execution_count": null,
   "id": "753b8cfc",
   "metadata": {},
   "outputs": [],
   "source": [
    "from pathlib import Path\n",
    "from scipy.signal import find_peaks\n",
    "import numpy as np\n",
    "import matplotlib.pyplot as plt\n",
    "import matplotlib.patches as patches\n",
    "from mpl_toolkits.axes_grid1 import make_axes_locatable\n",
    "import h5py\n",
    "import copy\n",
    "import pickle\n",
    "\n",
    "# Project modules\n",
    "from lib.Stokes import Stokes\n",
    "from functions.plot_data import plot_data"
   ]
  },
  {
   "cell_type": "code",
   "execution_count": null,
   "id": "d7f6bddc",
   "metadata": {},
   "outputs": [],
   "source": [
    "# Check that the Stokes object file exists\n",
    "stokes_filename = \"generated/objects/stokes.pickle\"\n",
    "my_file = Path(stokes_filename)\n",
    "if not my_file.is_file():\n",
    "    print(\"Stokes object does not exists (\", stokes_filename,\"), please run file init_data.py first\")\n",
    "\n",
    "# Load the objects from the files\n",
    "print(\"Loading Stokes data from file\", stokes_filename)\n",
    "stokes_list = pickle.load(open(stokes_filename, \"rb\"))"
   ]
  },
  {
   "cell_type": "code",
   "execution_count": null,
   "id": "865eff58",
   "metadata": {},
   "outputs": [],
   "source": [
    "# Calculate first derivative\n",
    "stokes_list['I'].calc_first_derivative()"
   ]
  },
  {
   "cell_type": "code",
   "execution_count": null,
   "id": "f49b2009",
   "metadata": {},
   "outputs": [],
   "source": [
    "# Calculate second derivative\n",
    "stokes_list['I'].calc_second_derivative()"
   ]
  },
  {
   "cell_type": "code",
   "execution_count": null,
   "id": "2dfc95fc",
   "metadata": {},
   "outputs": [],
   "source": [
    "# Plot derived Intensity\n",
    "wavelength = 6301.5\n",
    "stokes_list['I'].plot_frame_d(25)\n",
    "stokes_list['I'].plot_frame_dd(25)"
   ]
  },
  {
   "cell_type": "code",
   "execution_count": null,
   "id": "341ace0d",
   "metadata": {},
   "outputs": [],
   "source": [
    "plt.plot(stokes_list['I'].data_n[300,300,:])"
   ]
  },
  {
   "cell_type": "code",
   "execution_count": null,
   "id": "622b46de",
   "metadata": {},
   "outputs": [],
   "source": [
    "plt.plot(stokes_list['I'].data_d[300,300,:])"
   ]
  },
  {
   "cell_type": "code",
   "execution_count": null,
   "id": "7458d5d7",
   "metadata": {},
   "outputs": [],
   "source": [
    "plt.plot(stokes_list['I'].data_dd[300,300,:])"
   ]
  }
 ],
 "metadata": {
  "kernelspec": {
   "display_name": ".venv",
   "language": "python",
   "name": "python3"
  },
  "language_info": {
   "codemirror_mode": {
    "name": "ipython",
    "version": 3
   },
   "file_extension": ".py",
   "mimetype": "text/x-python",
   "name": "python",
   "nbconvert_exporter": "python",
   "pygments_lexer": "ipython3",
   "version": "3.13.3"
  }
 },
 "nbformat": 4,
 "nbformat_minor": 5
}
