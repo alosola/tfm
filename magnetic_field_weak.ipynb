{
 "cells": [
  {
   "cell_type": "code",
   "execution_count": null,
   "id": "753b8cfc",
   "metadata": {},
   "outputs": [],
   "source": [
    "from pathlib import Path\n",
    "from scipy.signal import find_peaks\n",
    "import numpy as np\n",
    "import matplotlib.pyplot as plt\n",
    "import matplotlib.patches as patches\n",
    "from mpl_toolkits.axes_grid1 import make_axes_locatable\n",
    "import h5py\n",
    "import copy\n",
    "import pickle\n",
    "\n",
    "# Project modules\n",
    "from lib.Stokes import Stokes\n",
    "from functions.plot_data import plot_data\n",
    "from functions.plot_angle_gradient import plot_angle_gradient"
   ]
  },
  {
   "cell_type": "code",
   "execution_count": null,
   "id": "d7f6bddc",
   "metadata": {},
   "outputs": [],
   "source": [
    "# Open data files\n",
    "from functions.load_pickles import load_pickles\n",
    "stokes_list, derived = load_pickles()"
   ]
  },
  {
   "cell_type": "code",
   "execution_count": null,
   "id": "53577fee",
   "metadata": {},
   "outputs": [
    {
     "ename": "",
     "evalue": "",
     "output_type": "error",
     "traceback": [
      "\u001b[1;31mThe Kernel crashed while executing code in the current cell or a previous cell. \n",
      "\u001b[1;31mPlease review the code in the cell(s) to identify a possible cause of the failure. \n",
      "\u001b[1;31mClick <a href='https://aka.ms/vscodeJupyterKernelCrash'>here</a> for more info. \n",
      "\u001b[1;31mView Jupyter <a href='command:jupyter.viewOutput'>log</a> for further details."
     ]
    }
   ],
   "source": [
    "# Extract each Stokes parameter into dictionary, to make it easier to work with\n",
    "I = stokes_list['I']\n",
    "Q = stokes_list['Q']\n",
    "U = stokes_list['U']\n",
    "V = stokes_list['V']"
   ]
  },
  {
   "cell_type": "code",
   "execution_count": null,
   "id": "c34816f8",
   "metadata": {},
   "outputs": [],
   "source": [
    "I.calc_derivatives()"
   ]
  },
  {
   "cell_type": "code",
   "execution_count": null,
   "id": "2dfc95fc",
   "metadata": {},
   "outputs": [],
   "source": [
    "# Plot derived Intensity\n",
    "fig = I.plot_frame_d(25)\n",
    "fig = plot_data(I.data_d[:,:,25])"
   ]
  },
  {
   "cell_type": "code",
   "execution_count": null,
   "id": "e6ac413a",
   "metadata": {},
   "outputs": [],
   "source": [
    "plt.plot(I.data_n[450,450,:])\n",
    "plt.grid()"
   ]
  },
  {
   "cell_type": "code",
   "execution_count": null,
   "id": "b09a3641",
   "metadata": {},
   "outputs": [],
   "source": [
    "# Define function to sum data along the third axis (sum all wavelengths)\n",
    "def sw(data):\n",
    "    return np.sum(data, axis=2)"
   ]
  },
  {
   "cell_type": "code",
   "execution_count": null,
   "id": "a84de6d8",
   "metadata": {},
   "outputs": [],
   "source": [
    "# Calculate the vertical (longitudinal) component\n",
    "\n",
    "#NOTE: these values are divided into _1 for the first spectral line and _2 for the second spectral line\n",
    "lambda0  = [6301.51, 6302.50]  # in Angstroms\n",
    "gbar     = [1.669, 2.487] # Lozitsky\n",
    "C1 = [4.6686e-13 * l**2 * g for l, g in zip(lambda0, gbar)]\n",
    "print(f\"C1_1: {C1[0]}, C1_2: {C1[1]}\")\n",
    "\n",
    "f = 1 # filling factor, assumed to be 1\n",
    "\n",
    "line_cuttoff = 55 # index at which we divide the data, between the spectral lines"
   ]
  },
  {
   "cell_type": "code",
   "execution_count": null,
   "id": "69e56217",
   "metadata": {},
   "outputs": [],
   "source": [
    "Bv = [-sw((V.data_n * I.data_d)[:, :, :line_cuttoff]) / (C1[0] * f * sw((I.data_d ** 2)[:, :, :line_cuttoff])),\n",
    "       -sw((V.data_n * I.data_d)[:, :, line_cuttoff:]) / (C1[1] * f * sw((I.data_d ** 2)[:, :, line_cuttoff:]))]\n",
    "\n",
    "print(f'Mean Bv [G]:\\nFirst line: {np.mean(Bv[0])}\\nSecond line: {np.mean(Bv[1])}')"
   ]
  },
  {
   "cell_type": "code",
   "execution_count": null,
   "id": "2f9eaebc",
   "metadata": {},
   "outputs": [],
   "source": [
    "plot_data(Bv[0], f'B longitudinal, first line')\n",
    "plot_data(Bv[1], f'B longitudinal, second line')"
   ]
  },
  {
   "cell_type": "code",
   "execution_count": null,
   "id": "b58f1871",
   "metadata": {},
   "outputs": [],
   "source": [
    "# Esto es sólo para ver que no hay una diferencia significativa entre las dos mitades\n",
    "plt.plot((V.data_n * I.data_d).mean(axis=(0,1)), color='blue')\n",
    "plt.plot((V.data_n * I.data_d)[:, :, :line_cuttoff].mean(axis=(0,1)), color='orange')\n",
    "plt.plot(np.arange(line_cuttoff, (V.data_n * I.data_d).shape[2]), (V.data_n * I.data_d)[:, :, line_cuttoff:].mean(axis=(0,1)), color='black')"
   ]
  },
  {
   "cell_type": "code",
   "execution_count": null,
   "id": "a636cc69",
   "metadata": {},
   "outputs": [],
   "source": [
    "plt.plot((I.data_d ** 2).mean(axis=(0,1)), color='blue')\n",
    "plt.plot((I.data_d ** 2)[:, :, :line_cuttoff].mean(axis=(0,1)), color='orange')\n",
    "plt.plot(np.arange(line_cuttoff, (V.data_n * I.data_d).shape[2]), (I.data_d ** 2)[:, :, line_cuttoff:].mean(axis=(0,1)), color='black')"
   ]
  },
  {
   "cell_type": "code",
   "execution_count": null,
   "id": "3db20dd6",
   "metadata": {},
   "outputs": [],
   "source": [
    "Bv_all = -sw((V.data_n * I.data_d)) / (C1[0] * f * sw((I.data_d ** 2)))\n",
    "plot_data(Bv_all, f'B longitudinal, all values together, C1[0]')\n",
    "\n",
    "Bv_all = -sw((V.data_n * I.data_d)) / (C1[1] * f * sw((I.data_d ** 2)))\n",
    "plot_data(Bv_all, f'B longitudinal, all values together, C1[1]')"
   ]
  },
  {
   "cell_type": "code",
   "execution_count": null,
   "id": "05087fdc",
   "metadata": {},
   "outputs": [],
   "source": [
    "line_cuttoff = 55\n",
    "\n",
    "# Intento de sacar los arrays para ver si llego a algo xd\n",
    "Vtest = V.data_n[:, :, :line_cuttoff]\n",
    "Itest = I.data_d[:, :, :line_cuttoff]\n",
    "\n",
    "Bv_test = -sw(Vtest*Itest) / (C1[0] * f * sw(Itest**2))\n",
    "plot_data(Bv_test)"
   ]
  },
  {
   "cell_type": "code",
   "execution_count": null,
   "id": "be5d650f",
   "metadata": {},
   "outputs": [],
   "source": [
    "# Calculate the horizontal (transverse) component\n",
    "\n",
    "Gbar = [g**2 for g in gbar]  # Landi Degl'Innocenti & Landolfi (2004), si la línea es un triplete #TODO\n",
    "C2 = [5.4490e-26 * l**4 * g for l, g in zip(lambda0, Gbar)]\n",
    "print(f\"C2_1: {C2[0]}, C2_2: {C2[1]}\")"
   ]
  },
  {
   "cell_type": "code",
   "execution_count": null,
   "id": "58a61fa1",
   "metadata": {},
   "outputs": [],
   "source": [
    "L = np.sqrt(Q.data_n**2 + U.data_n**2)\n",
    "Bt = [sw(L[:,:,:line_cuttoff] * np.abs(I.data_dd[:,:,:line_cuttoff])) / (C2[0] * f * sw(np.abs(I.data_dd[:,:,:line_cuttoff]))**2),\n",
    "       sw(L[:,:,line_cuttoff:] * np.abs(I.data_dd[:,:,line_cuttoff:])) / (C2[1] * f * sw(np.abs(I.data_dd[:,:,line_cuttoff:]))**2)]\n",
    "Bt = np.sqrt(Bt)"
   ]
  },
  {
   "cell_type": "code",
   "execution_count": null,
   "id": "19f90f5a",
   "metadata": {},
   "outputs": [],
   "source": [
    "plot_data(Bt[0], f'B transverse, first line')\n",
    "plot_data(Bt[1], f'B transverse, second line')"
   ]
  },
  {
   "cell_type": "code",
   "execution_count": null,
   "id": "15d0b059",
   "metadata": {},
   "outputs": [],
   "source": [
    "# Compute the azimuth angle (equal for both lines, does not depend on wavelength or Landé factor)\n",
    "chi = [np.arctan2(sw(U.data_n[:, :, :line_cuttoff] * I.data_dd[:, :, :line_cuttoff]), sw(Q.data_n[:, :, :line_cuttoff] * I.data_dd[:, :, :line_cuttoff])) / 2,\n",
    "    np.arctan2(sw(U.data_n[:, :, line_cuttoff:] * I.data_dd[:, :, line_cuttoff:]), sw(Q.data_n[:, :, line_cuttoff:] * I.data_dd[:, :, line_cuttoff:])) / 2]"
   ]
  },
  {
   "cell_type": "code",
   "execution_count": null,
   "id": "3547f49c",
   "metadata": {},
   "outputs": [],
   "source": [
    "plot_angle_gradient(chi[0], title='Azimuth angle, first line')\n",
    "plot_angle_gradient(chi[1], title='Azimuth angle, second line')"
   ]
  },
  {
   "cell_type": "code",
   "execution_count": null,
   "id": "6321db19",
   "metadata": {},
   "outputs": [],
   "source": [
    "#TODO: make plot with lines projected over the image, like in Figure 5.2 of Jennerholm Hammar"
   ]
  },
  {
   "cell_type": "code",
   "execution_count": null,
   "id": "c55fc9b4",
   "metadata": {},
   "outputs": [],
   "source": [
    "# Calculate inclination angle\n",
    "\n",
    "const = [4/3 * g**2/G for g, G in (gbar, Gbar)]\n",
    "\n",
    "num = [sw(np.abs(I.wave_array[:line_cuttoff] - lambda0[0]) * np.abs(L[:,:,:line_cuttoff]) * V.data_n[:,:,:line_cuttoff]**2 * np.abs(I.data_d[:,:,:line_cuttoff])),\n",
    "         sw(np.abs(I.wave_array[line_cuttoff:] - lambda0[1]) * np.abs(L[:,:,line_cuttoff:]) * V.data_n[:,:,line_cuttoff:]**2 * np.abs(I.data_d[:,:,line_cuttoff:]))]\n",
    "denom = [sw(np.abs(V.data_n[:,:,:line_cuttoff])**4),\n",
    "         sw(np.abs(V.data_n[:,:,line_cuttoff:])**4)]\n",
    "tan2gamma = [const[0] * num[0] / denom[0],\n",
    "             const[1] * num[1] / denom[1]]\n",
    "gamma = np.arctan(np.sqrt(tan2gamma))"
   ]
  },
  {
   "cell_type": "code",
   "execution_count": null,
   "id": "8caec0f0",
   "metadata": {},
   "outputs": [],
   "source": [
    "# Plot inclination for first line\n",
    "plot_angle_gradient(gamma[0], title='Inclination, first line')"
   ]
  },
  {
   "cell_type": "code",
   "execution_count": null,
   "id": "46866bea",
   "metadata": {},
   "outputs": [],
   "source": [
    "# Plot inclination for second line\n",
    "plot_angle_gradient(gamma[1], title='Inclination, second line')"
   ]
  },
  {
   "cell_type": "code",
   "execution_count": null,
   "id": "55d8af0b",
   "metadata": {},
   "outputs": [],
   "source": [
    "# Calculate limit of weak field approximation\n",
    "kB = 1.3806488e-16 # [cm2 g s-2 K-1]\n",
    "me = 9.10938291e-28 # electron mass [g]\n",
    "c = 2.99792458e10  # [cm · s−1]\n",
    "e0 = 4.80320451e-19 # [statC]\n",
    "\n",
    "Tk = 4500 # K\n",
    "M = 55.845 # Fe atomic mass\n",
    "vmic = 300000 # cm/s\n",
    "\n",
    "Bmax = [4*np.pi*me*c/gbar[0]/lambda0[0]/e0 * np.sqrt(2*kB*Tk/M + vmic**2),\n",
    "         4*np.pi*me*c/gbar[1]/lambda0[1]/e0 * np.sqrt(2*kB*Tk/M + vmic**2)]\n",
    "print(f'Max value magnetic field for weak field approzimation [G]:\\nFirst line: {Bmax[0]}\\nSecond line: {Bmax[1]}')"
   ]
  },
  {
   "cell_type": "code",
   "execution_count": null,
   "id": "36c390f1",
   "metadata": {},
   "outputs": [],
   "source": [
    "Ek = [45333.875, 45595.086]\n",
    "T = Ek[0]/kB *2/3\n",
    "print(f'Temperature from energy of first line: {T} K')"
   ]
  },
  {
   "cell_type": "code",
   "execution_count": null,
   "id": "4fa8ccff",
   "metadata": {},
   "outputs": [],
   "source": [
    "derived.weak_field(Bv, Bt, chi, gamma)\n",
    "derived.save_pickle()"
   ]
  }
 ],
 "metadata": {
  "kernelspec": {
   "display_name": "tfm",
   "language": "python",
   "name": "python3"
  },
  "language_info": {
   "codemirror_mode": {
    "name": "ipython",
    "version": 3
   },
   "file_extension": ".py",
   "mimetype": "text/x-python",
   "name": "python",
   "nbconvert_exporter": "python",
   "pygments_lexer": "ipython3",
   "version": "3.13.5"
  }
 },
 "nbformat": 4,
 "nbformat_minor": 5
}
