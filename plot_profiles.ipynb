{
 "cells": [
  {
   "cell_type": "code",
   "execution_count": null,
   "id": "89e1e64b",
   "metadata": {},
   "outputs": [],
   "source": [
    "## Calculate profiles\n",
    "\n",
    "%reload_ext autoreload\n",
    "%autoreload 2\n",
    "\n",
    "from pathlib import Path\n",
    "from scipy.signal import find_peaks\n",
    "import numpy as np\n",
    "import matplotlib.pyplot as plt\n",
    "import matplotlib.patches as patches\n",
    "from matplotlib import colormaps as cm\n",
    "from matplotlib import colors\n",
    "from mpl_toolkits.axes_grid1 import make_axes_locatable\n",
    "import h5py\n",
    "import copy\n",
    "import pickle\n",
    "\n",
    "# Project modules\n",
    "from lib.Stokes import Stokes\n",
    "from lib.Derived import Derived\n",
    "from functions.plot_data import plot_data"
   ]
  },
  {
   "cell_type": "code",
   "execution_count": null,
   "id": "12f31754",
   "metadata": {},
   "outputs": [],
   "source": [
    "# Check that the Stokes object file exists\n",
    "stokes_filename = \"generated/objects/stokes.pickle\"\n",
    "my_file = Path(stokes_filename)\n",
    "if not my_file.is_file():\n",
    "    print(\"Stokes object does not exist (\", stokes_filename,\"), please run file init_data.py first\")\n",
    "\n",
    "# Check that the Nova object file exists\n",
    "nova_filename = \"generated/objects/derived.pickle\"\n",
    "my_file = Path(nova_filename)\n",
    "if not my_file.is_file():\n",
    "    print(\"Nova object does not exist (\", nova_filename,\"), please run file init_data.py first\")\n",
    "\n",
    "# Load the objects from the files\n",
    "print(\"Loading Stokes data from file\", stokes_filename)\n",
    "stokes_list = pickle.load(open(stokes_filename, \"rb\"))\n",
    "print(\"Loading Nova data from file\", nova_filename)\n",
    "nova = pickle.load(open(nova_filename, \"rb\"))"
   ]
  },
  {
   "cell_type": "code",
   "execution_count": null,
   "id": "15850a97",
   "metadata": {},
   "outputs": [],
   "source": [
    "# Select pixels of interest\n",
    "x_pix = np.array([500, 180, 400, 290, 350, 300])\n",
    "y_pix = np.array([650, 655, 500, 230, 320, 355])\n",
    "\n",
    "# Plot polarization and selected points\n",
    "fig, ax = plt.subplots(ncols=1, nrows=1, figsize=(8, 8))\n",
    "ax.scatter(x_pix, y_pix, facecolors='none', edgecolors='red')\n",
    "ax.set_xlabel('X axis (array index)')\n",
    "ax.set_ylabel('Y axis (array index)')\n",
    "img = ax.imshow(nova.mp, cmap='gray')\n",
    "divider = make_axes_locatable(ax)\n",
    "cax = divider.append_axes(\"right\", size=\"5%\", pad=0.05)\n",
    "fig.colorbar(img, cax=cax, label='Number of counts')\n",
    "plt.show()"
   ]
  },
  {
   "cell_type": "code",
   "execution_count": null,
   "id": "ffb22cee",
   "metadata": {},
   "outputs": [],
   "source": [
    "# Plot profiles of each pixel\n",
    "line_wavelengths = [6301.5015, 6302.4893]\n",
    "titles = [f'Quiet sun', f'Exterior to  sunspot', f'Penumbra 1', f'Penmbra 2', f'Umbra 1', f'Umbra 2']\n",
    "fig, axs = plt.subplots(3, 2, figsize=(12,12))\n",
    "fig.suptitle('Stokes parameter variations over all wavelengths', fontsize=20)\n",
    "for param in stokes_list:\n",
    "\n",
    "    for i in range(3):\n",
    "        for j in range(2):\n",
    "            axs[i, j].plot(stokes_list[param].wave_array, stokes_list[param].data_n[y_pix[i*2+j],x_pix[i*2+j],:], linestyle='-', label=param)\n",
    "            axs[i, j].set_title(titles[i*2+j])\n",
    "            axs[i, j].vlines(line_wavelengths, stokes_list[param].data_n[y_pix[i*2+j],x_pix[i*2+j],:].min(), stokes_list[param].data_n[y_pix[i*2+j],x_pix[i*2+j],:].max(), colors='gray', linestyles='dashed')\n",
    "            # axs[i, j].legend()\n",
    "\n",
    "\n",
    "axs[0, 0].legend()"
   ]
  },
  {
   "cell_type": "code",
   "execution_count": null,
   "id": "00e1298f",
   "metadata": {},
   "outputs": [],
   "source": [
    "# Plot profiles of each pixel\n",
    "pixel_titles = [f'Quiet sun', f'Exterior to  sunspot', f'Penumbra 1', f'Penmbra 2', f'Umbra 1', f'Umbra 2']\n",
    "fig, axs = plt.subplots(2, 2, figsize=(12,12))\n",
    "fig.suptitle('Profile variation for selected pixels', fontsize=20)\n",
    "\n",
    "# Choose a colormap\n",
    "num_lines = 6\n",
    "cmap = plt.get_cmap('turbo')\n",
    "colors = [cmap(i / num_lines) for i in range(num_lines)]\n",
    "\n",
    "i=0\n",
    "for param in stokes_list:\n",
    "    row, col = divmod(i, 2)\n",
    "    for j in range(num_lines):\n",
    "        axs[row, col].plot(stokes_list[param].wave_array, stokes_list[param].data_n[y_pix[j],x_pix[j],:], linestyle='-', label=pixel_titles[j], color=colors[j])\n",
    "        axs[row, col].set_title(param)\n",
    "        # axs[row, col].vlines(line_wavelengths, stokes_list[param].data_n[y_pix[j],x_pix[j],:].min(), stokes_list[param].data_n[y_pix[j],x_pix[j],:].max(), colors='gray', linestyles='dashed')\n",
    "        # axs[i, j].legend()\n",
    "\n",
    "    i += 1\n",
    "\n",
    "\n",
    "axs[1, 0].legend()\n",
    "    "
   ]
  }
 ],
 "metadata": {
  "kernelspec": {
   "display_name": "tfm",
   "language": "python",
   "name": "python3"
  },
  "language_info": {
   "codemirror_mode": {
    "name": "ipython",
    "version": 3
   },
   "file_extension": ".py",
   "mimetype": "text/x-python",
   "name": "python",
   "nbconvert_exporter": "python",
   "pygments_lexer": "ipython3",
   "version": "3.13.5"
  }
 },
 "nbformat": 4,
 "nbformat_minor": 5
}
