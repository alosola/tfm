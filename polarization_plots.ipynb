{
 "cells": [
  {
   "cell_type": "code",
   "execution_count": null,
   "id": "753b8cfc",
   "metadata": {},
   "outputs": [],
   "source": [
    "from pathlib import Path\n",
    "from scipy.signal import find_peaks\n",
    "import numpy as np\n",
    "import matplotlib.pyplot as plt\n",
    "import matplotlib.patches as patches\n",
    "from mpl_toolkits.axes_grid1 import make_axes_locatable\n",
    "import h5py\n",
    "import copy\n",
    "import pickle\n",
    "from astropy.visualization import make_lupton_rgb\n",
    "from functions.plot_data import plot_data\n",
    "\n",
    "# Project modules\n",
    "from functions.plot_data import plot_data\n",
    "from lib.Stokes import Stokes\n",
    "from lib.Derived import Derived\n",
    "\n",
    "# Global variable for line cuttoff\n",
    "global line_cuttoff\n",
    "line_cutoff = 55"
   ]
  },
  {
   "cell_type": "code",
   "execution_count": null,
   "id": "d7f6bddc",
   "metadata": {},
   "outputs": [],
   "source": [
    "# Open data files\n",
    "from functions.load_pickles import load_pickles\n",
    "stokes_list, derived = load_pickles()"
   ]
  },
  {
   "cell_type": "code",
   "execution_count": null,
   "id": "e5f27e14",
   "metadata": {},
   "outputs": [],
   "source": [
    "# Extract each Stokes parameter into dictionary, to make it easier to work with\n",
    "I = stokes_list['I']\n",
    "Q = stokes_list['Q']\n",
    "U = stokes_list['U']\n",
    "V = stokes_list['V']"
   ]
  },
  {
   "cell_type": "code",
   "execution_count": null,
   "id": "69ad5d91",
   "metadata": {},
   "outputs": [],
   "source": [
    "derived.total_polarization()\n",
    "derived.linear_polarization()\n",
    "derived.circular_polarization()"
   ]
  },
  {
   "cell_type": "code",
   "execution_count": null,
   "id": "615dc2f4",
   "metadata": {},
   "outputs": [],
   "source": [
    "fig, _= plot_data(derived.mp[:,:,0], 'Total polarization (6301.5 Å)')\n",
    "fig.savefig(\"generated/\" + \"3.total_polarization_0.png\", dpi=200)\n",
    "print(\"Saved figure to file\", \"generated/3.total_polarization_0.png\")\n",
    "\n",
    "fig, _= plot_data(derived.mp[:,:,1], 'Total polarization (6302.5 Å)')\n",
    "fig.savefig(\"generated/\" + \"3.total_polarization_1.png\", dpi=200)\n",
    "print(\"Saved figure to file\", \"generated/3.total_polarization_1.png\")"
   ]
  },
  {
   "cell_type": "code",
   "execution_count": null,
   "id": "117be8fc",
   "metadata": {},
   "outputs": [],
   "source": [
    "fig, _= plot_data(derived.lp[:,:,0], 'Linear polarization (6301.5 Å)')\n",
    "fig.savefig(\"generated/\" + \"3.linear_polarization_0.png\", dpi=200)\n",
    "print(\"Saved figure to file\", \"generated/3.linear_polarization_0.png\")\n",
    "\n",
    "fig, _= plot_data(derived.lp[:,:,1], 'Linear polarization (6302.5 Å)')\n",
    "fig.savefig(\"generated/\" + \"3.linear_polarization_1.png\", dpi=200)\n",
    "print(\"Saved figure to file\", \"generated/3.linear_polarization_1.png\")"
   ]
  },
  {
   "cell_type": "code",
   "execution_count": null,
   "id": "f6d2f2a4",
   "metadata": {},
   "outputs": [],
   "source": [
    "fig, _= plot_data(derived.cp[:,:,0], 'Circular polarization (6301.5 Å)')\n",
    "fig.savefig(\"generated/\" + \"3.circular_polarization_0.png\", dpi=200)\n",
    "print(\"Saved figure to file\", \"generated/3.circular_polarization_0.png\")\n",
    "\n",
    "fig, _= plot_data(derived.cp[:,:,1], 'Circular polarization (6302.5 Å)')\n",
    "fig.savefig(\"generated/\" + \"3.circular_polarization_1.png\", dpi=200)\n",
    "print(\"Saved figure to file\", \"generated/3.circular_polarization_1.png\")"
   ]
  },
  {
   "cell_type": "code",
   "execution_count": null,
   "id": "293aa0ae",
   "metadata": {},
   "outputs": [],
   "source": [
    "# Generate RGB images from polarization data\n",
    "for i in range(2):\n",
    "    image = make_lupton_rgb(derived.mp[:,:,i], derived.lp[:,:,i], derived.cp[:,:,i], stretch=0.1, Q=6)\n",
    "    fig, ax = plt.subplots(figsize=(10,10))\n",
    "    ax.imshow(image, origin='upper')\n",
    "    ax.set_title(f\"R (mean), G (linear), B (circular) polarization (line {i+1})\")\n",
    "    fig.savefig(\"generated/\" + f\"RGB_polarization_{i}.png\", dpi=200)\n",
    "    print(\"Saved figure to file\", \"generated/\" + f\"RGB_polarization_{i}.png\")"
   ]
  }
 ],
 "metadata": {
  "kernelspec": {
   "display_name": "tfm",
   "language": "python",
   "name": "python3"
  },
  "language_info": {
   "codemirror_mode": {
    "name": "ipython",
    "version": 3
   },
   "file_extension": ".py",
   "mimetype": "text/x-python",
   "name": "python",
   "nbconvert_exporter": "python",
   "pygments_lexer": "ipython3",
   "version": "3.13.3"
  }
 },
 "nbformat": 4,
 "nbformat_minor": 5
}
