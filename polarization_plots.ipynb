{
 "cells": [
  {
   "cell_type": "code",
   "execution_count": null,
   "id": "753b8cfc",
   "metadata": {},
   "outputs": [],
   "source": [
    "from pathlib import Path\n",
    "from scipy.signal import find_peaks\n",
    "import numpy as np\n",
    "import matplotlib.pyplot as plt\n",
    "import matplotlib.patches as patches\n",
    "from mpl_toolkits.axes_grid1 import make_axes_locatable\n",
    "import h5py\n",
    "import copy\n",
    "import pickle\n",
    "from astropy.visualization import make_lupton_rgb\n",
    "from functions.plot_data import plot_data\n",
    "\n",
    "# Project modules\n",
    "from lib.Stokes import Stokes\n",
    "from functions.plot_data import plot_data"
   ]
  },
  {
   "cell_type": "code",
   "execution_count": null,
   "id": "d7f6bddc",
   "metadata": {},
   "outputs": [],
   "source": [
    "# Check that the Stokes object file exists\n",
    "stokes_filename = \"generated/objects/stokes.pickle\"\n",
    "my_file = Path(stokes_filename)\n",
    "if not my_file.is_file():\n",
    "    print(\"Stokes object does not exist (\", stokes_filename,\"), please run file init_data.py first\")\n",
    "\n",
    "# Check that the Nova object file exists\n",
    "nova_filename = \"generated/objects/derived.pickle\"\n",
    "my_file = Path(nova_filename)\n",
    "if not my_file.is_file():\n",
    "    print(\"Nova object does not exist (\", nova_filename,\"), please run file init_data.py first\")\n",
    "\n",
    "# Load the objects from the files\n",
    "print(\"Loading Stokes data from file\", stokes_filename)\n",
    "stokes_list = pickle.load(open(stokes_filename, \"rb\"))\n",
    "print(\"Loading Nova data from file\", nova_filename)\n",
    "nova = pickle.load(open(nova_filename, \"rb\"))\n"
   ]
  },
  {
   "cell_type": "code",
   "execution_count": null,
   "id": "7a9ff66b",
   "metadata": {},
   "outputs": [],
   "source": [
    "# Calculate polarizations, plot images\n",
    "\n",
    "# Calculate total polarization\n",
    "print(\"Calculaing total polarization\")\n",
    "nova.total_polarization()\n",
    "fig, _ = nova.plot_total_polarization()\n",
    "fig.savefig(\"generated/\" + \"total_polarization.png\", dpi=200)\n",
    "print(\"Saved figure to file\", \"generated/total_polarization.png\")\n",
    "\n",
    "\n",
    "# Calculate linear polarization\n",
    "print(\"Calculaing linear polarization\")\n",
    "nova.linear_polarization()\n",
    "fig, _ = nova.plot_linear_polarization()\n",
    "fig.savefig(\"generated/\" + \"linear_polarization.png\", dpi=200)\n",
    "print(\"Saved figure to file\", \"generated/linear_polarization.png\")\n",
    "\n",
    "# Calculate circular polarization\n",
    "print(\"Calculaing circular polarization\")\n",
    "nova.circular_polarization()\n",
    "fig, _ = nova.plot_circular_polarization()\n",
    "fig.savefig(\"generated/\" + \"circular_polarization.png\", dpi=200)\n",
    "print(\"Saved figure to file\", \"generated/circular_polarization.png\")"
   ]
  },
  {
   "cell_type": "code",
   "execution_count": null,
   "id": "293aa0ae",
   "metadata": {},
   "outputs": [],
   "source": [
    "# Generate RGB image from polarization data\n",
    "image = make_lupton_rgb(nova.mp, nova.lp, nova.cp, stretch=0.1, Q=6)\n",
    "fig, ax = plt.subplots(figsize=(10,10))\n",
    "ax.imshow(image, origin='upper')\n",
    "ax.set_title(\"R (mean), G (linear), B (circular) polarization\")\n",
    "fig.savefig(\"generated/\" + \"RGB_polarization.png\", dpi=200)\n",
    "print(\"Saved figure to file\", \"generated/\" + \"RGB_polarization.png\")"
   ]
  }
 ],
 "metadata": {
  "kernelspec": {
   "display_name": "tfm",
   "language": "python",
   "name": "python3"
  },
  "language_info": {
   "codemirror_mode": {
    "name": "ipython",
    "version": 3
   },
   "file_extension": ".py",
   "mimetype": "text/x-python",
   "name": "python",
   "nbconvert_exporter": "python",
   "pygments_lexer": "ipython3",
   "version": "3.13.3"
  }
 },
 "nbformat": 4,
 "nbformat_minor": 5
}
