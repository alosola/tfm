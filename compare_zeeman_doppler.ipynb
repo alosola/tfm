{
 "cells": [
  {
   "cell_type": "code",
   "execution_count": null,
   "id": "a78cb78b",
   "metadata": {},
   "outputs": [],
   "source": [
    "from pathlib import Path\n",
    "from scipy.signal import find_peaks\n",
    "import numpy as np\n",
    "import matplotlib.pyplot as plt\n",
    "import matplotlib.patches as patches\n",
    "from mpl_toolkits.axes_grid1 import make_axes_locatable\n",
    "import h5py\n",
    "import copy\n",
    "import pickle\n",
    "\n",
    "# Project modules\n",
    "from lib.Stokes import Stokes\n",
    "from functions.plot_data import plot_data\n",
    "from functions.plot_angle_gradient import plot_angle_gradient"
   ]
  },
  {
   "cell_type": "code",
   "execution_count": null,
   "id": "1b87cf6d",
   "metadata": {},
   "outputs": [],
   "source": [
    "# Open data files\n",
    "from functions.load_pickles import load_pickles\n",
    "stokes_list, derived = load_pickles()"
   ]
  },
  {
   "cell_type": "code",
   "execution_count": null,
   "id": "15ae46e0",
   "metadata": {},
   "outputs": [],
   "source": [
    "# Extract each Stokes parameter into dictionary, to make it easier to work with\n",
    "I = stokes_list['I']\n",
    "Q = stokes_list['Q']\n",
    "U = stokes_list['U']\n",
    "V = stokes_list['V']"
   ]
  },
  {
   "cell_type": "code",
   "execution_count": null,
   "id": "46c06f40",
   "metadata": {},
   "outputs": [],
   "source": [
    "# Constants\n",
    "kB = 1.3806488e-16 # [erg K-1]\n",
    "h = 6.6260755e-27  # [erg s]\n",
    "c = 2.99792458e10  # [cm · s−1]\n",
    "lambda0  = [6301.51*1e-8, 6302.50*1e-8]   # Angstroms to cm\n",
    "l = np.mean(lambda0)\n",
    "Icont = I.data_n[:,:,:5].mean(axis=2) # I map in continuum\n",
    "Teff = 5780 # [K] T quiet sun average"
   ]
  },
  {
   "cell_type": "code",
   "execution_count": null,
   "id": "9ad6f629",
   "metadata": {},
   "outputs": [],
   "source": [
    "plot_data(Icont, title=\"Continuum Intensity\")"
   ]
  },
  {
   "cell_type": "code",
   "execution_count": null,
   "id": "f347fc6c",
   "metadata": {},
   "outputs": [],
   "source": [
    "T = (1/Teff - kB*l/h/c * np.log(Icont))**-1"
   ]
  },
  {
   "cell_type": "code",
   "execution_count": null,
   "id": "d8f38f5b",
   "metadata": {},
   "outputs": [],
   "source": [
    "plot_data(T, title=\"Temperature (Wien approximation)\")"
   ]
  },
  {
   "cell_type": "code",
   "execution_count": null,
   "id": "6d9f7aa9",
   "metadata": {},
   "outputs": [],
   "source": [
    "M = 55.845 # Fe atomic mass, [g mol-1]\n",
    "av = 6.022e23 # avogadro, [mol-1]\n",
    "m =  M/av\n",
    "Xi = 0 # microturbulence, assumed 0\n",
    "\n",
    "kB = 1.3806488e-16 # [erg K-1] = [g cm^2 s^-2 K^-1]\n",
    "c = 2.99792458e10  # [cm · s−1]\n",
    "\n",
    "# Rebecca Centeno, equation 3\n",
    "dlD = 6302/c * np.sqrt(2*kB*T/m + Xi**2) # will be in units of lambda, in this case Angstrom\n",
    "\n",
    "plot_data(dlD, title=r\"$\\Delta \\lambda _D$, in $\\mathrm{\\AA}$\")"
   ]
  },
  {
   "cell_type": "code",
   "execution_count": null,
   "id": "3fac4fcb",
   "metadata": {},
   "outputs": [],
   "source": [
    "# Umbra pixel\n",
    "x_pix = 300\n",
    "y_pix = 350\n",
    "\n",
    "spectrum = copy.copy(V.data_n[y_pix,x_pix,:])\n",
    "peaks_p, _ = find_peaks(spectrum, height=0.03)\n",
    "peaks_n, _ = find_peaks(-spectrum, height=0.03)\n",
    "print(f'Peaks positive: {stokes_list['V'].wave_array[peaks_p]}')\n",
    "print(f'Peaks negative: {stokes_list['V'].wave_array[peaks_n]}')\n",
    "\n",
    "plt.plot(stokes_list['V'].wave_array, stokes_list['V'].data_n[y_pix,x_pix,:], linestyle='-')\n",
    "plt.vlines(stokes_list['V'].wave_array[peaks_p], ymin=-0.15, ymax=0.15, color='r')\n",
    "plt.vlines(stokes_list['V'].wave_array[peaks_n], ymin=-0.15, ymax=0.15, color='g')\n",
    "\n",
    "dlB = stokes_list['V'].wave_array[peaks_n] - stokes_list['V'].wave_array[peaks_p]\n",
    "print(f'Distances: {dlB} Angstrom')"
   ]
  },
  {
   "cell_type": "code",
   "execution_count": null,
   "id": "05fe1911",
   "metadata": {},
   "outputs": [],
   "source": [
    "gbar     = [1.669, 2.487] # Lozitsky\n",
    "\n",
    "factor = gbar * dlB/dlD.max()\n",
    "\n",
    "print(f'WFA factor: {factor}')\n"
   ]
  },
  {
   "cell_type": "code",
   "execution_count": null,
   "id": "873bc88b",
   "metadata": {},
   "outputs": [],
   "source": [
    "x_pix = np.array([500, 180, 290, 400, 320, 300])\n",
    "y_pix = np.array([118, 113, 538, 354, 428, 413])\n",
    "\n",
    "# Plot profiles of each pixel\n",
    "pixel_titles = [f'Quiet sun', f'Exterior to  sunspot', f'Penumbra 1', f'Penmbra 2', f'Umbra 1', f'Umbra 2']\n",
    "fig, axs = plt.subplots(1,1, figsize=(12,7))\n",
    "fig.suptitle('Profile variation for selected pixels', fontsize=20)\n",
    "\n",
    "# Choose a colormap\n",
    "num_lines = 6\n",
    "cmap = plt.get_cmap('turbo')\n",
    "colors = [cmap(i / num_lines) for i in range(num_lines)]\n",
    "\n",
    "for j in range(num_lines):\n",
    "    axs.plot(stokes_list['V'].wave_array, stokes_list['V'].data_n[y_pix[j],x_pix[j],:], linestyle='-', label=pixel_titles[j], color=colors[j])\n",
    "    axs.set_title('V')\n",
    "    # axs[row, col].vlines(line_wavelengths, stokes_list[param].data_n[y_pix[j],x_pix[j],:].min(), stokes_list[param].data_n[y_pix[j],x_pix[j],:].max(), colors='gray', linestyles='dashed')\n",
    "    # axs[i, j].legend()\n",
    "\n",
    "\n",
    "axs.vlines(stokes_list['V'].wave_array[peaks_p], ymin=-0.35, ymax=0.35, color='r')\n",
    "axs.vlines(stokes_list['V'].wave_array[peaks_n], ymin=-0.35, ymax=0.35, color='g')\n",
    "\n",
    "axs.legend()\n"
   ]
  },
  {
   "cell_type": "code",
   "execution_count": null,
   "id": "5db7a466",
   "metadata": {},
   "outputs": [],
   "source": [
    "# Penumbra pixel\n",
    "x_pix = 400\n",
    "y_pix = 500\n",
    "\n",
    "spectrum = copy.copy(V.data_n[y_pix,x_pix,:])\n",
    "peaks_p, _ = find_peaks(spectrum, height=0.02)\n",
    "peaks_n, _ = find_peaks(-spectrum, height=0.010)\n",
    "print(f'Peaks positive: {stokes_list['V'].wave_array[peaks_p]}')\n",
    "print(f'Peaks negative: {stokes_list['V'].wave_array[peaks_n]}')\n",
    "\n",
    "plt.plot(stokes_list['V'].wave_array, stokes_list['V'].data_n[y_pix,x_pix,:], linestyle='-')\n",
    "plt.vlines(stokes_list['V'].wave_array[peaks_p], ymin=-0.05, ymax=0.05, color='r')\n",
    "plt.vlines(stokes_list['V'].wave_array[peaks_n], ymin=-0.05, ymax=0.05, color='g')\n",
    "\n",
    "dlB = stokes_list['V'].wave_array[peaks_n] - stokes_list['V'].wave_array[peaks_p]\n",
    "print(f'Distances: {-dlB} Angstrom')"
   ]
  }
 ],
 "metadata": {
  "kernelspec": {
   "display_name": "tfm",
   "language": "python",
   "name": "python3"
  },
  "language_info": {
   "codemirror_mode": {
    "name": "ipython",
    "version": 3
   },
   "file_extension": ".py",
   "mimetype": "text/x-python",
   "name": "python",
   "nbconvert_exporter": "python",
   "pygments_lexer": "ipython3",
   "version": "3.13.3"
  }
 },
 "nbformat": 4,
 "nbformat_minor": 5
}
