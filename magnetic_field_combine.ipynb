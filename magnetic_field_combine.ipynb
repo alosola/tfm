{
 "cells": [
  {
   "cell_type": "code",
   "execution_count": null,
   "id": "408f5c8d",
   "metadata": {},
   "outputs": [],
   "source": [
    "from pathlib import Path\n",
    "from scipy.signal import find_peaks\n",
    "import numpy as np\n",
    "import matplotlib.pyplot as plt\n",
    "import matplotlib.patches as patches\n",
    "from mpl_toolkits.axes_grid1 import make_axes_locatable\n",
    "import h5py\n",
    "import copy\n",
    "import pickle\n",
    "\n",
    "# Project modules\n",
    "from lib.Stokes import Stokes\n",
    "from functions.plot_data import plot_data\n",
    "from functions.plot_angle_gradient import plot_angle_gradient"
   ]
  },
  {
   "cell_type": "code",
   "execution_count": null,
   "id": "d0ffd386",
   "metadata": {},
   "outputs": [],
   "source": [
    "# Open data files\n",
    "from functions.load_pickles import load_pickles\n",
    "stokes_list, derived = load_pickles()"
   ]
  },
  {
   "cell_type": "code",
   "execution_count": null,
   "id": "21c3edca",
   "metadata": {},
   "outputs": [],
   "source": [
    "# Extract each Stokes parameter into dictionary, to make it easier to work with\n",
    "I = stokes_list['I']\n",
    "Q = stokes_list['Q']\n",
    "U = stokes_list['U']\n",
    "V = stokes_list['V']"
   ]
  },
  {
   "cell_type": "code",
   "execution_count": null,
   "id": "0d6a99fd",
   "metadata": {},
   "outputs": [],
   "source": [
    "derived.weak.Bv = np.moveaxis(derived.weak.Bv, 0, -1)\n",
    "derived.weak.Bt = np.moveaxis(derived.weak.Bt, 0, -1)\n",
    "\n",
    "derived.weak.chi = np.moveaxis(derived.weak.chi, 0, -1)\n",
    "derived.weak.gamma = np.moveaxis(derived.weak.gamma, 0, -1)"
   ]
  },
  {
   "cell_type": "code",
   "execution_count": null,
   "id": "3840c30c",
   "metadata": {},
   "outputs": [],
   "source": [
    "B = np.zeros(derived.weak.Bv.shape) * np.nan\n",
    "gamma = np.zeros(derived.weak.Bv.shape) * np.nan\n",
    "chi = np.zeros(derived.weak.Bv.shape) * np.nan\n",
    "\n",
    "for i in range(I.data.shape[0]):\n",
    "    for j in range(I.data.shape[1]):\n",
    "        for k in range(0,2):\n",
    "            if np.isnan(derived.strong.B[i,j,k]):\n",
    "                # Use weak field approximation if strong field is NaN\n",
    "                B[i,j,k] = np.sqrt(derived.weak.Bv[i,j,k]**2 + derived.weak.Bt[i,j,k]**2)\n",
    "                chi[i,j,k] = derived.weak.chi[i,j,k]\n",
    "                gamma[i,j,k] = derived.weak.gamma[i,j,k]\n",
    "            else:\n",
    "                # Use strong field approximation otherwise\n",
    "                B[i,j,k] = derived.strong.B[i,j,k]\n",
    "                chi[i,j,k] = derived.strong.chi[i,j,k]\n",
    "                gamma[i,j,k] = derived.strong.gamma[i,j,k]"
   ]
  },
  {
   "cell_type": "code",
   "execution_count": null,
   "id": "207d6d37",
   "metadata": {},
   "outputs": [],
   "source": [
    "print(np.shape(B))"
   ]
  },
  {
   "cell_type": "code",
   "execution_count": null,
   "id": "a619cbaa",
   "metadata": {},
   "outputs": [],
   "source": [
    "plot_data(B[:,:,0], title='Magnetic field strength, first line')\n",
    "plot_data(B[:,:,1], title='Magnetic field strength, second line')"
   ]
  },
  {
   "cell_type": "code",
   "execution_count": null,
   "id": "fbd0045c",
   "metadata": {},
   "outputs": [],
   "source": [
    "plot_angle_gradient(chi[:,:,0], title='Azimuth angle, first line')\n",
    "plot_angle_gradient(chi[:,:,1], title='Azimuth angle, second line')"
   ]
  },
  {
   "cell_type": "code",
   "execution_count": null,
   "id": "01e53dcc",
   "metadata": {},
   "outputs": [],
   "source": [
    "plot_data(gamma[:,:,0], title='Inclination angle, first line')\n",
    "plot_data(gamma[:,:,1], title='Innclination angle, second line')"
   ]
  }
 ],
 "metadata": {
  "kernelspec": {
   "display_name": "tfm",
   "language": "python",
   "name": "python3"
  },
  "language_info": {
   "codemirror_mode": {
    "name": "ipython",
    "version": 3
   },
   "file_extension": ".py",
   "mimetype": "text/x-python",
   "name": "python",
   "nbconvert_exporter": "python",
   "pygments_lexer": "ipython3",
   "version": "3.13.5"
  }
 },
 "nbformat": 4,
 "nbformat_minor": 5
}
