{
 "cells": [
  {
   "cell_type": "code",
   "execution_count": null,
   "id": "753b8cfc",
   "metadata": {},
   "outputs": [],
   "source": [
    "from scipy.signal import find_peaks\n",
    "import numpy as np\n",
    "import matplotlib.pyplot as plt\n",
    "import matplotlib.patches as patches\n",
    "from mpl_toolkits.axes_grid1 import make_axes_locatable\n",
    "import h5py\n",
    "import copy\n",
    "\n",
    "# Project modules\n",
    "from lib.Stokes import Stokes\n",
    "from functions.plot_data import plot_data"
   ]
  },
  {
   "cell_type": "code",
   "execution_count": null,
   "id": "d7f6bddc",
   "metadata": {},
   "outputs": [],
   "source": [
    "# Open datafile\n",
    "datafile = 'data/AR_12665_133153_0.h5'\n",
    "print(\"Reading data file\", datafile)\n",
    "data = h5py.File(datafile, 'r')\n",
    "print(\"Opened data file\", data.file)\n",
    "\n",
    "# Print data parameters\n",
    "print(\"List of keys in file:\", list(data.keys()))\n",
    "key = list(data.keys())[0]\n",
    "print(\"    Number of strokes parameters:   \", data[key].shape[0])\n",
    "print(\"    Size of X axis:                 \", data[key].shape[1])\n",
    "print(\"    Size of Y axis:                 \", data[key].shape[2])\n",
    "print(\"    Number of measured wavelengths: \", data[key].shape[3])"
   ]
  },
  {
   "cell_type": "code",
   "execution_count": null,
   "id": "05530f21",
   "metadata": {},
   "outputs": [],
   "source": [
    "# Extract each Stokes parameter into dictionary\n",
    "i = 0\n",
    "I = Stokes('I', data['stokes'][0])\n",
    "Q = Stokes('Q', data['stokes'][1])\n",
    "U = Stokes('U', data['stokes'][2])\n",
    "V = Stokes('V', data['stokes'][3])\n",
    "stokes_list = {'I': I, 'Q': Q, 'U': U, 'V': V}\n",
    "for stokes in stokes_list:\n",
    "    print(stokes, 'shape:', stokes_list[stokes].data.shape)\n",
    "    i = i + 1"
   ]
  },
  {
   "cell_type": "code",
   "execution_count": null,
   "id": "69e622b1",
   "metadata": {},
   "outputs": [],
   "source": [
    "# # Plot all figures to see where there is signal\n",
    "# # Commented because it takes a few minutes to run\n",
    "# for param in stokes_list:\n",
    "#     fig = stokes_list[param].plot_all_frames()\n",
    "#     fig.savefig(\"generated/\" + str(param) + \"_all_frames.png\", dpi=150)\n",
    "#     print(\"Saved figure to file\", \"generated/\" + str(param) + \"_all_frames.png\")"
   ]
  },
  {
   "cell_type": "code",
   "execution_count": null,
   "id": "bc4ce75f",
   "metadata": {},
   "outputs": [],
   "source": [
    "# Plot one image for each parameter where we are sure to have signal (after studying the plots at all wavelengths)\n",
    "index_frame = 25\n",
    "for param in stokes_list:\n",
    "    stokes_list[param].plot_frame(index_frame)"
   ]
  },
  {
   "cell_type": "code",
   "execution_count": null,
   "id": "0f4a1965",
   "metadata": {},
   "outputs": [],
   "source": [
    "# Calculate total polarization\n",
    "\n",
    "# Apply formula to each wavelength\n",
    "mp = np.empty(I.data.shape)\n",
    "for i in range(112):\n",
    "    mp[:,:,i] = np.sqrt(Q.data[:,:,i]**2 + U.data[:,:,i]**2 + V.data[:,:,i]**2) / I.data[:,:,i]"
   ]
  },
  {
   "cell_type": "code",
   "execution_count": null,
   "id": "7f66556f",
   "metadata": {},
   "outputs": [],
   "source": [
    "# Plot one frame of data\n",
    "plot_data(mp[:,:,index_frame], \"Polarization data, for wavelength index \" + str(index_frame))"
   ]
  },
  {
   "cell_type": "code",
   "execution_count": null,
   "id": "31d36819",
   "metadata": {},
   "outputs": [],
   "source": [
    "# Select region of quiet sun for calibration intensity calculation\n",
    "xmin = 480\n",
    "xmax = 605\n",
    "ymin = 0\n",
    "ymax = 180\n",
    "xwidth = xmax - xmin\n",
    "ywidth = ymax - ymin\n",
    "# We want to select a region with little total polarization, since this implies a low magnetic field -> quiet sun\n",
    "\n",
    "# Plot polarization\n",
    "fig, ax = plot_data(mp[:,:,index_frame], \"Polarization data, for wavelength index \" + str(index_frame))\n",
    "\n",
    "# Create a rectangle patch\n",
    "rect = patches.Rectangle((xmin, ymin), xwidth, ywidth, linewidth=10, edgecolor='r', facecolor='none') # TODO: this patch stopped working :/\n",
    "\n",
    "# Add the patch to the Axes\n",
    "ax.add_patch(rect)"
   ]
  },
  {
   "cell_type": "code",
   "execution_count": null,
   "id": "0eb39ed6",
   "metadata": {},
   "outputs": [],
   "source": [
    "# Calulate mean value of quiet sun area for each wavelength\n",
    "# and plot the profile\n",
    "fig, ax = plt.subplots(ncols=1, nrows=4, figsize=(6, 7), sharex='col',)\n",
    "i = 0\n",
    "for param in stokes_list:\n",
    "    stokes_list[param].mean_quiet_region(xmin, xmax, ymin, ymax)\n",
    "\n",
    "    img = ax[i].plot(stokes_list[param].mean_quiet)\n",
    "    i +=1"
   ]
  },
  {
   "cell_type": "code",
   "execution_count": null,
   "id": "d702665d",
   "metadata": {},
   "outputs": [],
   "source": [
    "# Open calibration data\n",
    "calibfile = 'data/fts_calibration.npz'\n",
    "print(\"Reading calibration data file\", calibfile)\n",
    "calibdata = np.load(calibfile)\n",
    "print(\"Opened calibration data file\")\n",
    "\n",
    "# Print data parameters\n",
    "print(\"List of keys in file:\", list(calibdata.files))\n",
    "key = list(calibdata.files)\n",
    "print(\"With shape:\")\n",
    "print(\"    Wavelength daya (x):           \", calibdata[key[0]].shape)\n",
    "print(\"    Intensity (y):                 \", calibdata[key[0]].shape)\n",
    "print(\"    Continuum (c):                 \", calibdata[key[0]].shape)"
   ]
  },
  {
   "cell_type": "code",
   "execution_count": null,
   "id": "52af1606",
   "metadata": {},
   "outputs": [],
   "source": [
    "# Get spectral lines from data spectrum\n",
    "spectrum = copy.copy(I.mean_quiet)\n",
    "peaks, _ = find_peaks(-spectrum) \n",
    "print(\"Peaks in I data: \", peaks)\n",
    "# TODO: figure out why it's getting four peaks\n",
    "peaks = [29, 75]\n",
    "\n",
    "# Example from here: https://eikonaloptics.com/blogs/tutorials/spectrometer-wavelength-calibration-practical-implementation?srsltid=AfmBOoqBsKn0cOmwJ4wTow4yGllnfrRJAqNRn0FOSJ3sFu7leDetbL1D\n",
    "# Find centroid of spectral lines\n",
    "npix = 4\n",
    "centroid_pix = np.array([])\n",
    "for p in peaks:\n",
    "  pix = np.arange(p-npix, p+npix+1)\n",
    "  centroid_pix = np.append(centroid_pix,\n",
    "                 np.sum(spectrum[p-npix: p+npix+1] * pix) / np.sum(spectrum[p-npix: p+npix+1]))\n",
    "  \n",
    "print(\"Centroix pixels on spectrum: \", centroid_pix)\n",
    "\n",
    "# Plot on spectrum\n",
    "fig, ax = plt.subplots(ncols=1, nrows=1, figsize=(6, 3))\n",
    "ax.set_xlabel('Wavelength (not calibrated)')\n",
    "ax.set_ylabel('Intensity')\n",
    "ax.set_title(\"Mean intensity\")\n",
    "ax.vlines(centroid_pix, spectrum.min(), spectrum.max(), colors='orange')\n",
    "img = ax.plot(spectrum)"
   ]
  },
  {
   "cell_type": "code",
   "execution_count": null,
   "id": "854ac28d",
   "metadata": {},
   "outputs": [],
   "source": [
    "# Plot calibration data\n",
    "fig, ax = plt.subplots(ncols=1, nrows=1, figsize=(6, 3))\n",
    "ax.set_xlabel('Wavelength')\n",
    "ax.set_ylabel('Intensity')\n",
    "ax.set_title(\"Calibration data\")\n",
    "\n",
    "img = ax.plot(calibdata['x'], calibdata['y'])"
   ]
  },
  {
   "cell_type": "code",
   "execution_count": null,
   "id": "97eb4042",
   "metadata": {},
   "outputs": [],
   "source": [
    "# Get spectral lines from calibration spectrum\n",
    "calib_spectrum = calibdata['y']\n",
    "calib_peaks, _ = find_peaks(-calib_spectrum) # find absortion lines\n",
    "print(\"Peaks in calibration data: \", calib_peaks)\n",
    "# Keep peaks which match the Fe I lines (manually)\n",
    "calib_peaks_clean = [210, 347]\n",
    "\n",
    "# Get wavelength values of Fe I peaks\n",
    "calib_wavelengths = [calibdata['x'][210], calibdata['x'][347]]\n",
    "print(\"Wavelengths of Fe I peaks: \", calib_wavelengths)\n",
    "\n",
    "# Plot calibration data\n",
    "fig, ax = plt.subplots(ncols=1, nrows=1, figsize=(6, 3))\n",
    "ax.set_xlabel('Wavelength [nm]')\n",
    "ax.set_ylabel('Intensity')\n",
    "ax.set_title(\"Calibration data\")\n",
    "ax.vlines(calib_wavelengths, calib_spectrum.min(), calib_spectrum.max(), colors='orange')\n",
    "img = ax.plot(calibdata['x'], calibdata['y'])"
   ]
  },
  {
   "cell_type": "code",
   "execution_count": null,
   "id": "c823de68",
   "metadata": {},
   "outputs": [],
   "source": [
    "# Calculate polynomial which fits the spectra to the calibration wavelengths\n",
    "poly_degree = 1\n",
    "coeffs_wave_cal = np.polyfit(centroid_pix, calib_wavelengths, deg=poly_degree, w=[20,2])\n",
    "print(\"Polyfit coefficients: \", coeffs_wave_cal)\n",
    "\n",
    "plt.plot(np.polyval(coeffs_wave_cal, np.arange(112)))\n",
    "plt.title(\"Polyfit results\")"
   ]
  },
  {
   "cell_type": "code",
   "execution_count": null,
   "id": "27f107f0",
   "metadata": {},
   "outputs": [],
   "source": [
    "# Adjust spectrum with the calculated polynomial\n",
    "pix_val = np.arange(len(spectrum))\n",
    "calibrated_axis = np.polyval(coeffs_wave_cal, pix_val)\n",
    "\n",
    "# Plot the spectrum with the newly calibrated wavelengths. \n",
    "plt.figure(figsize=(8,5))\n",
    "plt.plot(calibrated_axis, spectrum)\n",
    "plt.xlabel('Calibrated wavelength [nm]')"
   ]
  },
  {
   "cell_type": "code",
   "execution_count": null,
   "id": "7f91de27",
   "metadata": {},
   "outputs": [],
   "source": [
    "# Normalize spectrum and calibration data, mean of first value\n",
    "spectrum_n = spectrum / spectrum[0]\n",
    "calibdata_n = calibdata['y'] / calibdata['y'][0] # this is wrong but useful for visual confirmation\n",
    "\n",
    "# Compare calibrated spectum to calibration data\n",
    "fig, ax = plt.subplots(ncols=1, nrows=1, figsize=(6, 3))\n",
    "ax.set_xlabel('Wavelength [nm]')\n",
    "ax.set_ylabel('Intensity (normalized)')\n",
    "ax.set_title(\"Calibrated spectrum (orange) plotted over calibration data\")\n",
    "ax.set_xlim([6300, 6304])\n",
    "img = ax.plot(calibdata['x'], calibdata_n)\n",
    "img = ax.plot(calibrated_axis, spectrum_n, color='orange')"
   ]
  },
  {
   "cell_type": "code",
   "execution_count": null,
   "id": "43f9041b",
   "metadata": {},
   "outputs": [],
   "source": [
    "# Add wavelength axis to objects\n",
    "for param in stokes_list:\n",
    "    stokes_list[param].add_wavelength(calibrated_axis)"
   ]
  },
  {
   "cell_type": "code",
   "execution_count": null,
   "id": "865eff58",
   "metadata": {},
   "outputs": [],
   "source": [
    "# Normalize all datacubes by didiving by the wavelength\n",
    "for param in stokes_list:\n",
    "    stokes_list[param].normalize()"
   ]
  },
  {
   "cell_type": "code",
   "execution_count": null,
   "id": "2dfc95fc",
   "metadata": {},
   "outputs": [],
   "source": [
    "# Plot normalized data, all Stokes parameters for the spectral line, where wavelength = 6301.5 nm\n",
    "wavelength = 6301.5\n",
    "for param in stokes_list:\n",
    "    stokes_list[param].plot_frame_n(25)"
   ]
  },
  {
   "cell_type": "code",
   "execution_count": null,
   "id": "511a3e2c",
   "metadata": {},
   "outputs": [],
   "source": [
    "# Calculate polarizations, plot images\n",
    "\n",
    "from lib.Derived import Derived\n",
    "\n",
    "# Initializing derived parameter object\n",
    "nova = Derived(stokes_list)\n",
    "\n",
    "# Calculate total polarization\n",
    "print(\"Calculaing total polarization\")\n",
    "nova.total_polarization()\n",
    "fig, _ = nova.plot_total_polarization()\n",
    "fig.savefig(\"generated/\" + \"total_polarization.png\", dpi=200)\n",
    "print(\"Saved figure to file\", \"generated/total_polarization.png\")\n",
    "\n",
    "\n",
    "# Calculate linear polarization\n",
    "print(\"Calculaing linear polarization\")\n",
    "nova.linear_polarization()\n",
    "fig, _ = nova.plot_linear_polarization()\n",
    "fig.savefig(\"generated/\" + \"linear_polarization.png\", dpi=200)\n",
    "print(\"Saved figure to file\", \"generated/linear_polarization.png\")\n",
    "\n",
    "# Calculate circular polarization\n",
    "print(\"Calculaing circular polarization\")\n",
    "nova.circular_polarization()\n",
    "fig, _ = nova.plot_circular_polarization()\n",
    "fig.savefig(\"generated/\" + \"circular_polarization.png\", dpi=200)\n",
    "print(\"Saved figure to file\", \"generated/circular_polarization.png\")"
   ]
  }
 ],
 "metadata": {
  "kernelspec": {
   "display_name": ".venv",
   "language": "python",
   "name": "python3"
  },
  "language_info": {
   "codemirror_mode": {
    "name": "ipython",
    "version": 3
   },
   "file_extension": ".py",
   "mimetype": "text/x-python",
   "name": "python",
   "nbconvert_exporter": "python",
   "pygments_lexer": "ipython3",
   "version": "3.13.3"
  }
 },
 "nbformat": 4,
 "nbformat_minor": 5
}
